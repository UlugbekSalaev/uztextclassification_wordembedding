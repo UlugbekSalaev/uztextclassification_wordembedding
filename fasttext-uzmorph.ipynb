{
 "cells": [
  {
   "cell_type": "markdown",
   "metadata": {
    "colab_type": "text",
    "id": "view-in-github"
   },
   "source": [
    "<a href=\"https://colab.research.google.com/github/demekeendalie/Fine-tuning-bert-model-for-amharic-news-classification/blob/main/fastText_classifier.ipynb\" target=\"_parent\"><img src=\"https://colab.research.google.com/assets/colab-badge.svg\" alt=\"Open In Colab\"/></a>"
   ]
  },
  {
   "cell_type": "code",
   "execution_count": 1,
   "metadata": {
    "execution": {
     "iopub.execute_input": "2025-03-06T19:21:54.192613Z",
     "iopub.status.busy": "2025-03-06T19:21:54.192005Z",
     "iopub.status.idle": "2025-03-06T19:21:54.197971Z",
     "shell.execute_reply": "2025-03-06T19:21:54.196605Z",
     "shell.execute_reply.started": "2025-03-06T19:21:54.192564Z"
    },
    "id": "342ICL9sDKR3",
    "scrolled": true
   },
   "outputs": [],
   "source": [
    "import pandas as pd\n",
    "import numpy as np"
   ]
  },
  {
   "cell_type": "code",
   "execution_count": 2,
   "metadata": {
    "execution": {
     "execution_failed": "2025-03-07T03:46:37.291Z",
     "iopub.execute_input": "2025-03-06T19:21:54.200461Z",
     "iopub.status.busy": "2025-03-06T19:21:54.199981Z"
    },
    "id": "_jGASGUyEDNz"
   },
   "outputs": [
    {
     "name": "stdout",
     "output_type": "stream",
     "text": [
      "C:/Users/E-MaxPCShop/Desktop/Uzbek_News_Dataset_small_stem\\Avto\n",
      "C:/Users/E-MaxPCShop/Desktop/Uzbek_News_Dataset_small_stem\\Ayollar\n",
      "C:/Users/E-MaxPCShop/Desktop/Uzbek_News_Dataset_small_stem\\Iqtisodiyot\n",
      "C:/Users/E-MaxPCShop/Desktop/Uzbek_News_Dataset_small_stem\\Jinoyat\n",
      "C:/Users/E-MaxPCShop/Desktop/Uzbek_News_Dataset_small_stem\\Madaniyat\n",
      "C:/Users/E-MaxPCShop/Desktop/Uzbek_News_Dataset_small_stem\\Pazandachilik\n",
      "C:/Users/E-MaxPCShop/Desktop/Uzbek_News_Dataset_small_stem\\processed_articles.csv\n",
      "C:/Users/E-MaxPCShop/Desktop/Uzbek_News_Dataset_small_stem\\Qonunchilik\n",
      "C:/Users/E-MaxPCShop/Desktop/Uzbek_News_Dataset_small_stem\\Salomatlik\n",
      "C:/Users/E-MaxPCShop/Desktop/Uzbek_News_Dataset_small_stem\\Siyosat\n",
      "C:/Users/E-MaxPCShop/Desktop/Uzbek_News_Dataset_small_stem\\Sport\n",
      "C:/Users/E-MaxPCShop/Desktop/Uzbek_News_Dataset_small_stem\\Texnologiya\n"
     ]
    }
   ],
   "source": [
    "import os\n",
    "dataset_path = 'C:/Users/E-MaxPCShop/Desktop/Uzbek_News_Dataset_small_stem'\n",
    "\n",
    "data = []\n",
    "for category in os.listdir(dataset_path):\n",
    "    category_path = os.path.join(dataset_path, category)\n",
    "    print(category_path)\n",
    "    # Check if it's a directory (category folder)\n",
    "    if os.path.isdir(category_path):\n",
    "        for filename in os.listdir(category_path):\n",
    "            if filename.endswith('.txt'):\n",
    "                file_path = os.path.join(category_path, filename)\n",
    "                try:\n",
    "                    with open(file_path, 'r', encoding='utf-8') as file:\n",
    "                        article_text = file.read().strip()  # Read and remove leading/trailing spaces\n",
    "                        data.append({'articles': article_text, 'category': category})\n",
    "                except Exception as e:\n",
    "                    print(f\"Error reading file {file_path}: {e}\")\n",
    "\n",
    "dataframe = pd.DataFrame(data)"
   ]
  },
  {
   "cell_type": "code",
   "execution_count": 3,
   "metadata": {
    "execution": {
     "execution_failed": "2025-03-07T03:46:37.298Z"
    },
    "id": "JLbBP9TqEQET"
   },
   "outputs": [
    {
     "name": "stdout",
     "output_type": "stream",
     "text": [
      "                                                 articles     category\n",
      "0       tesla barcha elektromobil narx osh o‘zbekiston...         Avto\n",
      "1       uzauto motors o‘rindiq isi mode va magnitafon ...         Avto\n",
      "2       lego‘ ming ortiq deta yordam to‘liq o‘lcham fe...         Avto\n",
      "3       naman moskvich ariq ag‘dar ket oqibat bir kish...         Avto\n",
      "4       qo‘qon ypx xodim mashina ust sudra ket haydovc...         Avto\n",
      "...                                                   ...          ...\n",
      "102955  sony mm qalinlik yangi xperia t smartfon taqdi...  Texnologiya\n",
      "102956  acer kompaniya yangi iconia a planshet olmaota...  Texnologiya\n",
      "102957  lg g ommaboplik samsu galaxy s’n ort qol janub...  Texnologiya\n",
      "102958  vertu kompaniya ming yevrolik titan smartfon c...  Texnologiya\n",
      "102959  apple yangi ios operatsion tizim taqdim et app...  Texnologiya\n",
      "\n",
      "[102960 rows x 2 columns]\n",
      "Texnologiya      17541\n",
      "Qonunchilik      14779\n",
      "Sport            13403\n",
      "Madaniyat        12798\n",
      "Siyosat          12247\n",
      "Iqtisodiyot      12165\n",
      "Avto              6044\n",
      "Salomatlik        5086\n",
      "Jinoyat           4200\n",
      "Ayollar           2657\n",
      "Pazandachilik     2040\n",
      "Name: category, dtype: int64\n"
     ]
    }
   ],
   "source": [
    "print(dataframe)\n",
    "category_counts = dataframe['category'].value_counts()\n",
    "print(category_counts)\n"
   ]
  },
  {
   "cell_type": "code",
   "execution_count": 4,
   "metadata": {
    "colab": {
     "base_uri": "https://localhost:8080/"
    },
    "execution": {
     "execution_failed": "2025-03-07T03:46:37.300Z"
    },
    "id": "HAVJsDoEEYJQ",
    "outputId": "4e0a0c4a-4892-41f5-8254-55ca9c0868d0"
   },
   "outputs": [
    {
     "name": "stdout",
     "output_type": "stream",
     "text": [
      "                                                 articles     category  labels\n",
      "0       tesla barcha elektromobil narx osh o‘zbekiston...         Avto       0\n",
      "1       uzauto motors o‘rindiq isi mode va magnitafon ...         Avto       0\n",
      "2       lego‘ ming ortiq deta yordam to‘liq o‘lcham fe...         Avto       0\n",
      "3       naman moskvich ariq ag‘dar ket oqibat bir kish...         Avto       0\n",
      "4       qo‘qon ypx xodim mashina ust sudra ket haydovc...         Avto       0\n",
      "...                                                   ...          ...     ...\n",
      "102955  sony mm qalinlik yangi xperia t smartfon taqdi...  Texnologiya      10\n",
      "102956  acer kompaniya yangi iconia a planshet olmaota...  Texnologiya      10\n",
      "102957  lg g ommaboplik samsu galaxy s’n ort qol janub...  Texnologiya      10\n",
      "102958  vertu kompaniya ming yevrolik titan smartfon c...  Texnologiya      10\n",
      "102959  apple yangi ios operatsion tizim taqdim et app...  Texnologiya      10\n",
      "\n",
      "[102960 rows x 3 columns]\n",
      "            category  labels\n",
      "0               Avto       0\n",
      "6044         Ayollar       1\n",
      "8701     Iqtisodiyot       2\n",
      "20866        Jinoyat       3\n",
      "25066      Madaniyat       4\n",
      "37864  Pazandachilik       5\n",
      "39904    Qonunchilik       6\n",
      "54683     Salomatlik       7\n",
      "59769        Siyosat       8\n",
      "72016          Sport       9\n",
      "85419    Texnologiya      10\n"
     ]
    }
   ],
   "source": [
    "# changing category to numeric\n",
    "label=pd.Categorical(dataframe['category']).codes\n",
    "label=pd.DataFrame(label)\n",
    "dataframe['labels']=pd.DataFrame(label)\n",
    "print(dataframe)\n",
    "\n",
    "unique_category_labels = dataframe[['category', 'labels']].drop_duplicates()\n",
    "print(unique_category_labels)"
   ]
  },
  {
   "cell_type": "code",
   "execution_count": 5,
   "metadata": {
    "execution": {
     "execution_failed": "2025-03-07T03:46:37.309Z"
    },
    "id": "PZSr4Q-MEjI4"
   },
   "outputs": [],
   "source": [
    "del dataframe['category']"
   ]
  },
  {
   "cell_type": "code",
   "execution_count": 6,
   "metadata": {
    "execution": {
     "execution_failed": "2025-03-07T03:46:37.315Z"
    },
    "id": "6QB8Cbv9EqEK"
   },
   "outputs": [],
   "source": [
    "# sheffule the dataset\n",
    "dataframe=dataframe.sample(frac=1)"
   ]
  },
  {
   "cell_type": "code",
   "execution_count": 7,
   "metadata": {
    "execution": {
     "execution_failed": "2025-03-07T03:46:37.315Z"
    },
    "id": "97MHtaEe36Ja"
   },
   "outputs": [],
   "source": [
    "#normalizarion\n",
    "import re\n",
    "#method to normalize character level missmatch such as ጸሀይ and ፀሐይ\n",
    "def normalization(input_token):\n",
    "    rep1=re.sub('[ሃኅኃሐሓኻ]','ሀ',input_token)\n",
    "    rep2=re.sub('[ሑኁዅ]','ሁ',rep1)\n",
    "\n",
    "    return rep2"
   ]
  },
  {
   "cell_type": "code",
   "execution_count": 8,
   "metadata": {
    "execution": {
     "execution_failed": "2025-03-07T03:46:37.316Z"
    },
    "id": "DplY7I_y3zUd"
   },
   "outputs": [],
   "source": [
    "# apply normalization and special characters removal\n",
    "# dataframe['articles']=dataframe['articles'].apply(lambda x: normalization(x))"
   ]
  },
  {
   "cell_type": "code",
   "execution_count": 9,
   "metadata": {
    "execution": {
     "execution_failed": "2025-03-07T03:46:37.316Z"
    },
    "id": "DQDjonh33tnL"
   },
   "outputs": [
    {
     "name": "stdout",
     "output_type": "stream",
     "text": [
      "                                                 articles  labels\n",
      "84808   frank kessie barselona o‘tadi bo‘l futbolchi k...       9\n",
      "2664    u tez yet ol qaror qil peterburglik qiz mashin...       0\n",
      "70710   mudofaa vazirlig rossiya bilan hamkorlik dastu...       8\n",
      "92849   mevasabzavot yet mumkin bo‘l elektrok namoyish...      10\n",
      "51541   boʻlgʻu huquqbuzar yoz ravishda ogohlantir huq...       6\n",
      "...                                                   ...     ...\n",
      "80343   superl neftchi derb g‘alaba qozo olimpik va su...       9\n",
      "31757   london charlz darvin yil chop et kitob mln dol...       4\n",
      "102515  qon alkogo miqdor aniq beruvchi qurilma konsep...      10\n",
      "81096   real madrid gol shous osasuna mag‘lubiyat uchr...       9\n",
      "54578   tovarxomashyo birja fyuchers savdo joriy qil h...       6\n",
      "\n",
      "[102960 rows x 2 columns]\n",
      "                                                 articles  labels\n",
      "84808   frank kessie barselona o‘tadi bo‘l futbolchi k...       9\n",
      "2664    u tez yet ol qaror qil peterburglik qiz mashin...       0\n",
      "70710   mudofaa vazirlig rossiya bilan hamkorlik dastu...       8\n",
      "92849   mevasabzavot yet mumkin bo‘l elektrok namoyish...      10\n",
      "51541   boʻlgʻu huquqbuzar yoz ravishda ogohlantir huq...       6\n",
      "...                                                   ...     ...\n",
      "80343   superl neftchi derb g‘alaba qozo olimpik va su...       9\n",
      "31757   london charlz darvin yil chop et kitob mln dol...       4\n",
      "102515  qon alkogo miqdor aniq beruvchi qurilma konsep...      10\n",
      "81096   real madrid gol shous osasuna mag‘lubiyat uchr...       9\n",
      "54578   tovarxomashyo birja fyuchers savdo joriy qil h...       6\n",
      "\n",
      "[102960 rows x 2 columns]\n"
     ]
    }
   ],
   "source": [
    "# special symbol removal\n",
    "print(dataframe)\n",
    "# dataframe['articles']=dataframe['articles'].str.replace('[^\\w\\s]','',regex=True)\n",
    "dataframe['articles']=dataframe['articles'].str.replace(\"O'\",'O‘',regex=True)\n",
    "dataframe['articles']=dataframe['articles'].str.replace(\"G'\",'G‘',regex=True)\n",
    "dataframe['articles']=dataframe['articles'].str.replace(\"o'\",'o‘',regex=True)\n",
    "dataframe['articles']=dataframe['articles'].str.replace(\"g'\",'g‘',regex=True)\n",
    "dataframe['articles']=dataframe['articles'].str.replace('O`','O‘',regex=True)\n",
    "dataframe['articles']=dataframe['articles'].str.replace('G`','G‘',regex=True)\n",
    "dataframe['articles']=dataframe['articles'].str.replace('o`','o‘',regex=True)\n",
    "dataframe['articles']=dataframe['articles'].str.replace('g`','g‘',regex=True)\n",
    "dataframe['articles']=dataframe['articles'].str.replace(\"[^\\w\\s‘’`']\",'',regex=True)\n",
    "dataframe['articles'] = dataframe['articles'].str.replace('\\n\\n', '. ', regex=False)\n",
    "dataframe['articles'] = dataframe['articles'].str.replace('\\n', '. ', regex=False)\n",
    "\n",
    "print(dataframe)"
   ]
  },
  {
   "cell_type": "code",
   "execution_count": 10,
   "metadata": {
    "execution": {
     "execution_failed": "2025-03-07T03:46:37.316Z"
    },
    "id": "_QYuRpSItMzV"
   },
   "outputs": [],
   "source": [
    "# removing digits from the dataset\n",
    "dataframe['articles']=dataframe['articles'].str.replace('\\d+','',regex=True)"
   ]
  },
  {
   "cell_type": "code",
   "execution_count": 11,
   "metadata": {
    "execution": {
     "execution_failed": "2025-03-07T03:46:37.317Z"
    },
    "id": "1MsG8sbn6kNz"
   },
   "outputs": [],
   "source": [
    "# drawing density graph"
   ]
  },
  {
   "cell_type": "code",
   "execution_count": 12,
   "metadata": {
    "execution": {
     "execution_failed": "2025-03-07T03:46:37.322Z"
    },
    "id": "2k79DG0bui2S"
   },
   "outputs": [],
   "source": [
    "#formating the dataset to the fasttext format __label___ data\n",
    "dataframe['formatted']=\"__label__\"+dataframe['labels'].astype(str)+\" \"+dataframe['articles']"
   ]
  },
  {
   "cell_type": "code",
   "execution_count": 13,
   "metadata": {
    "colab": {
     "base_uri": "https://localhost:8080/",
     "height": 143
    },
    "execution": {
     "execution_failed": "2025-03-07T03:46:37.323Z"
    },
    "id": "DJHYRChx55B5",
    "outputId": "dfa6745c-5810-4ea7-b771-93e229345f8e"
   },
   "outputs": [
    {
     "data": {
      "text/html": [
       "<div>\n",
       "<style scoped>\n",
       "    .dataframe tbody tr th:only-of-type {\n",
       "        vertical-align: middle;\n",
       "    }\n",
       "\n",
       "    .dataframe tbody tr th {\n",
       "        vertical-align: top;\n",
       "    }\n",
       "\n",
       "    .dataframe thead th {\n",
       "        text-align: right;\n",
       "    }\n",
       "</style>\n",
       "<table border=\"1\" class=\"dataframe\">\n",
       "  <thead>\n",
       "    <tr style=\"text-align: right;\">\n",
       "      <th></th>\n",
       "      <th>articles</th>\n",
       "      <th>labels</th>\n",
       "      <th>formatted</th>\n",
       "    </tr>\n",
       "  </thead>\n",
       "  <tbody>\n",
       "    <tr>\n",
       "      <th>84808</th>\n",
       "      <td>frank kessie barselona o‘tadi bo‘l futbolchi k...</td>\n",
       "      <td>9</td>\n",
       "      <td>__label__9 frank kessie barselona o‘tadi bo‘l ...</td>\n",
       "    </tr>\n",
       "    <tr>\n",
       "      <th>2664</th>\n",
       "      <td>u tez yet ol qaror qil peterburglik qiz mashin...</td>\n",
       "      <td>0</td>\n",
       "      <td>__label__0 u tez yet ol qaror qil peterburglik...</td>\n",
       "    </tr>\n",
       "    <tr>\n",
       "      <th>70710</th>\n",
       "      <td>mudofaa vazirlig rossiya bilan hamkorlik dastu...</td>\n",
       "      <td>8</td>\n",
       "      <td>__label__8 mudofaa vazirlig rossiya bilan hamk...</td>\n",
       "    </tr>\n",
       "  </tbody>\n",
       "</table>\n",
       "</div>"
      ],
      "text/plain": [
       "                                                articles  labels  \\\n",
       "84808  frank kessie barselona o‘tadi bo‘l futbolchi k...       9   \n",
       "2664   u tez yet ol qaror qil peterburglik qiz mashin...       0   \n",
       "70710  mudofaa vazirlig rossiya bilan hamkorlik dastu...       8   \n",
       "\n",
       "                                               formatted  \n",
       "84808  __label__9 frank kessie barselona o‘tadi bo‘l ...  \n",
       "2664   __label__0 u tez yet ol qaror qil peterburglik...  \n",
       "70710  __label__8 mudofaa vazirlig rossiya bilan hamk...  "
      ]
     },
     "execution_count": 13,
     "metadata": {},
     "output_type": "execute_result"
    }
   ],
   "source": [
    "dataframe.head(3)"
   ]
  },
  {
   "cell_type": "code",
   "execution_count": 14,
   "metadata": {
    "execution": {
     "execution_failed": "2025-03-07T03:46:37.323Z"
    },
    "id": "DCvQZEmcwn2N"
   },
   "outputs": [],
   "source": [
    "# train test spliting and taking only the formated column\n",
    "from sklearn.model_selection import train_test_split\n",
    "train, test=train_test_split(dataframe['formatted'], test_size=0.2)"
   ]
  },
  {
   "cell_type": "code",
   "execution_count": 15,
   "metadata": {
    "colab": {
     "base_uri": "https://localhost:8080/"
    },
    "execution": {
     "execution_failed": "2025-03-07T03:46:37.323Z"
    },
    "id": "6RGTNW-x6SEx",
    "outputId": "9e85e266-c406-48e3-ef1a-2e93e53b76b9"
   },
   "outputs": [
    {
     "data": {
      "text/plain": [
       "((82368,), (20592,))"
      ]
     },
     "execution_count": 15,
     "metadata": {},
     "output_type": "execute_result"
    }
   ],
   "source": [
    "train.shape, test.shape"
   ]
  },
  {
   "cell_type": "code",
   "execution_count": 16,
   "metadata": {
    "execution": {
     "execution_failed": "2025-03-07T03:46:37.324Z"
    },
    "id": "m8C-eVLwxY0w"
   },
   "outputs": [],
   "source": [
    "# save the training and testing data\n",
    "train.to_csv(\"news.train\",header=False,index=False)\n",
    "test.to_csv(\"news.test\",header=False,index=False)"
   ]
  },
  {
   "cell_type": "code",
   "execution_count": 17,
   "metadata": {
    "colab": {
     "base_uri": "https://localhost:8080/"
    },
    "execution": {
     "execution_failed": "2025-03-07T03:46:37.324Z"
    },
    "id": "p4lj2wyzyknM",
    "outputId": "bf29fa79-a189-4198-e275-39ea7bd4b269"
   },
   "outputs": [],
   "source": [
    "# !pip install fasttext-wheel"
   ]
  },
  {
   "cell_type": "code",
   "execution_count": 18,
   "metadata": {
    "execution": {
     "execution_failed": "2025-03-07T03:46:37.330Z"
    },
    "id": "ic_u3YpvzISw"
   },
   "outputs": [],
   "source": [
    "import fasttext as ft"
   ]
  },
  {
   "cell_type": "code",
   "execution_count": 19,
   "metadata": {
    "execution": {
     "execution_failed": "2025-03-07T03:46:37.333Z"
    },
    "id": "gAylqZVHzPld"
   },
   "outputs": [],
   "source": [
    "# training the model\n",
    "model=ft.train_supervised(input=\"news.train\",loss='softmax',epoch=100, verbose=True)"
   ]
  },
  {
   "cell_type": "code",
   "execution_count": 20,
   "metadata": {
    "execution": {
     "execution_failed": "2025-03-07T03:46:37.333Z"
    },
    "id": "0WAxzaoEzhga"
   },
   "outputs": [],
   "source": [
    "# testing the model\n",
    "predict=model.test(\"news.test\")"
   ]
  },
  {
   "cell_type": "code",
   "execution_count": 21,
   "metadata": {
    "colab": {
     "base_uri": "https://localhost:8080/"
    },
    "execution": {
     "execution_failed": "2025-03-07T03:46:37.333Z"
    },
    "id": "AVhDROzSuvts",
    "outputId": "0e12051d-2cba-45e4-c990-989e56ccde0e",
    "scrolled": true
   },
   "outputs": [
    {
     "name": "stdout",
     "output_type": "stream",
     "text": [
      "(20592, 0.9257478632478633, 0.9257478632478633)\n"
     ]
    }
   ],
   "source": [
    "print(predict)"
   ]
  },
  {
   "cell_type": "code",
   "execution_count": 22,
   "metadata": {
    "execution": {
     "execution_failed": "2025-03-07T03:46:37.334Z"
    }
   },
   "outputs": [
    {
     "name": "stdout",
     "output_type": "stream",
     "text": [
      "Accuracy: 0.9257478632478633\n",
      "Precision: 0.9257769749003698\n",
      "Recall: 0.9257478632478633\n",
      "F1 Score: 0.9256951010402197\n",
      "Classification Report:\n",
      "              precision    recall  f1-score   support\n",
      "\n",
      "           0       0.83      0.86      0.84      1154\n",
      "           1       0.83      0.77      0.80       537\n",
      "          10       0.91      0.91      0.91      3565\n",
      "           2       0.86      0.85      0.85      2409\n",
      "           3       0.96      0.97      0.96       857\n",
      "           4       0.97      0.96      0.96      2576\n",
      "           5       0.99      0.97      0.98       376\n",
      "           6       0.98      0.99      0.99      2979\n",
      "           7       0.85      0.88      0.87       985\n",
      "           8       0.90      0.91      0.91      2451\n",
      "           9       0.99      0.98      0.98      2703\n",
      "\n",
      "    accuracy                           0.93     20592\n",
      "   macro avg       0.92      0.91      0.91     20592\n",
      "weighted avg       0.93      0.93      0.93     20592\n",
      "\n"
     ]
    },
    {
     "data": {
      "image/png": "[encoded data removed]",
      "text/plain": [
       "<Figure size 720x576 with 2 Axes>"
      ]
     },
     "metadata": {
      "needs_background": "light"
     },
     "output_type": "display_data"
    },
    {
     "name": "stdout",
     "output_type": "stream",
     "text": [
      "Confusion Matrix:\n",
      "[[ 987    2  108   30    7    8    0    2    0    7    3]\n",
      " [   2  413   24    1    0   16    3    0   78    0    0]\n",
      " [ 112    7 3249  110    1   30    0    1   31   13   11]\n",
      " [  46    2  100 2042   15    9    0   24   11  158    2]\n",
      " [   9    0    3    7  830    1    0    0    2    3    2]\n",
      " [  13   15   27    8    5 2474    0    2    9   16    7]\n",
      " [   2    1    2    0    0    0  366    0    4    0    1]\n",
      " [   3    0    4    8    0    0    0 2948    1   15    0]\n",
      " [   2   57   23    9    3    2    1    1  869   18    0]\n",
      " [   4    0   11  150    4   12    1   15   10 2237    7]\n",
      " [   3    0   12    6    3   10    0    1    3   17 2648]]\n"
     ]
    }
   ],
   "source": [
    "from sklearn.metrics import confusion_matrix, accuracy_score, precision_score, recall_score, f1_score, classification_report\n",
    "import matplotlib.pyplot as plt\n",
    "import seaborn as sns\n",
    "\n",
    "# Load your test data (assuming it's formatted as FastText expects)\n",
    "test_file = \"news.test\"  # Replace \"news.test\" with your actual test file\n",
    "\n",
    "# Get predictions and true labels\n",
    "y_true = []\n",
    "y_pred = []\n",
    "\n",
    "with open(test_file, \"r\") as f:\n",
    "    for line in f:\n",
    "        label = line.split(\" \")[0].replace(\"__label__\", \"\")\n",
    "        text = \" \".join(line.split(\" \")[1:]).strip() # Remove extra spaces and newlines\n",
    "#         text = text.replace('\\n', ' ') # Replace internal newlines with spaces\n",
    "        prediction = model.predict(text)[0][0].replace(\"__label__\", \"\")\n",
    "\n",
    "        y_true.append(label)\n",
    "        y_pred.append(prediction)\n",
    "\n",
    "# Calculate metrics\n",
    "accuracy = accuracy_score(y_true, y_pred)\n",
    "precision = precision_score(y_true, y_pred, average=\"weighted\", zero_division=0)\n",
    "recall = recall_score(y_true, y_pred, average=\"weighted\", zero_division=0)\n",
    "f1 = f1_score(y_true, y_pred, average=\"weighted\", zero_division=0)\n",
    "report = classification_report(y_true, y_pred, zero_division=0)\n",
    "cm = confusion_matrix(y_true, y_pred)\n",
    "\n",
    "# Print metrics\n",
    "print(f\"Accuracy: {accuracy}\")\n",
    "print(f\"Precision: {precision}\")\n",
    "print(f\"Recall: {recall}\")\n",
    "print(f\"F1 Score: {f1}\")\n",
    "print(f\"Classification Report:\\n{report}\")\n",
    "\n",
    "# Plot confusion matrix\n",
    "plt.figure(figsize=(10, 8))\n",
    "sns.heatmap(cm, annot=True, fmt=\"d\", cmap=\"Blues\")\n",
    "plt.xlabel(\"Predicted Labels\")\n",
    "plt.ylabel(\"True Labels\")\n",
    "plt.title(\"Confusion Matrix\")\n",
    "plt.show()\n",
    "\n",
    "print(\"Confusion Matrix:\")\n",
    "print(cm)"
   ]
  },
  {
   "cell_type": "code",
   "execution_count": 23,
   "metadata": {},
   "outputs": [
    {
     "data": {
      "image/png": "[encoded data removed]",
      "text/plain": [
       "<Figure size 576x432 with 1 Axes>"
      ]
     },
     "metadata": {
      "needs_background": "light"
     },
     "output_type": "display_data"
    }
   ],
   "source": [
    "import matplotlib.pyplot as plt\n",
    "\n",
    "# Lists to store accuracy values\n",
    "epochs = list(range(10, 110, 10))  # Track every 10 epochs\n",
    "# train_accuracies = []\n",
    "test_accuracies = []\n",
    "\n",
    "# Iteratively train and track accuracy\n",
    "for epoch in epochs:\n",
    "    model = ft.train_supervised(input=\"news.train\", loss='softmax', epoch=epoch)\n",
    "    \n",
    "    # Track training accuracy\n",
    "#     train_pred = model.test(\"news.train\")\n",
    "#     train_accuracies.append(train_pred[1])  # Accuracy value\n",
    "    \n",
    "    # Track test accuracy\n",
    "    test_pred = model.test(\"news.test\")\n",
    "    test_accuracies.append(test_pred[1])  # Accuracy value\n",
    "\n",
    "# Plot accuracy over epochs\n",
    "plt.figure(figsize=(8, 6))\n",
    "# plt.plot(epochs, train_accuracies, label='Training Accuracy', marker='o')\n",
    "plt.plot(epochs, test_accuracies, label='Test Accuracy', marker='o')\n",
    "plt.title('Model Accuracy Over Epochs')\n",
    "plt.xlabel('Epochs')\n",
    "plt.ylabel('Accuracy')\n",
    "plt.grid(True)\n",
    "plt.legend()\n",
    "plt.show()"
   ]
  },
  {
   "cell_type": "code",
   "execution_count": null,
   "metadata": {},
   "outputs": [],
   "source": []
  }
 ],
 "metadata": {
  "colab": {
   "authorship_tag": "ABX9TyOfDqe8PodFhVDOOcdAr2UT",
   "include_colab_link": true,
   "provenance": []
  },
  "kaggle": {
   "accelerator": "none",
   "dataSources": [
    {
     "datasetId": 6802262,
     "sourceId": 10938282,
     "sourceType": "datasetVersion"
    }
   ],
   "dockerImageVersionId": 30918,
   "isGpuEnabled": false,
   "isInternetEnabled": false,
   "language": "python",
   "sourceType": "notebook"
  },
  "kernelspec": {
   "display_name": "Python 3 (ipykernel)",
   "language": "python",
   "name": "python3"
  },
  "language_info": {
   "codemirror_mode": {
    "name": "ipython",
    "version": 3
   },
   "file_extension": ".py",
   "mimetype": "text/x-python",
   "name": "python",
   "nbconvert_exporter": "python",
   "pygments_lexer": "ipython3",
   "version": "3.9.12"
  }
 },
 "nbformat": 4,
 "nbformat_minor": 4
}
