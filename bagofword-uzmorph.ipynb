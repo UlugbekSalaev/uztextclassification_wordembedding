{
 "cells": [
  {
   "cell_type": "markdown",
   "metadata": {
    "colab_type": "text",
    "id": "view-in-github"
   },
   "source": [
    "<a href=\"https://colab.research.google.com/github/demekeendalie/Fine-tuning-bert-model-for-amharic-news-classification/blob/main/Bag_of_word_classifier.ipynb\" target=\"_parent\"><img src=\"https://colab.research.google.com/assets/colab-badge.svg\" alt=\"Open In Colab\"/></a>"
   ]
  },
  {
   "cell_type": "code",
   "execution_count": 1,
   "metadata": {
    "execution": {
     "iopub.execute_input": "2025-03-08T17:21:06.664808Z",
     "iopub.status.busy": "2025-03-08T17:21:06.664330Z",
     "iopub.status.idle": "2025-03-08T17:21:24.613555Z",
     "shell.execute_reply": "2025-03-08T17:21:24.612750Z",
     "shell.execute_reply.started": "2025-03-08T17:21:06.664767Z"
    },
    "id": "OhJdh97irjX1"
   },
   "outputs": [],
   "source": [
    "#importing basic packages\n",
    "import pandas as pd\n",
    "import numpy as np\n",
    "import tensorflow as tf"
   ]
  },
  {
   "cell_type": "code",
   "execution_count": 2,
   "metadata": {
    "execution": {
     "iopub.execute_input": "2025-03-08T17:21:24.615126Z",
     "iopub.status.busy": "2025-03-08T17:21:24.614459Z",
     "iopub.status.idle": "2025-03-08T17:44:48.736133Z",
     "shell.execute_reply": "2025-03-08T17:44:48.735245Z",
     "shell.execute_reply.started": "2025-03-08T17:21:24.615090Z"
    },
    "id": "TExn7JejtfDj"
   },
   "outputs": [
    {
     "name": "stdout",
     "output_type": "stream",
     "text": [
      "C:/Users/E-MaxPCShop/Desktop/Uzbek_News_Dataset_small_stem\\Avto\n",
      "C:/Users/E-MaxPCShop/Desktop/Uzbek_News_Dataset_small_stem\\Ayollar\n",
      "C:/Users/E-MaxPCShop/Desktop/Uzbek_News_Dataset_small_stem\\Iqtisodiyot\n",
      "C:/Users/E-MaxPCShop/Desktop/Uzbek_News_Dataset_small_stem\\Jinoyat\n",
      "C:/Users/E-MaxPCShop/Desktop/Uzbek_News_Dataset_small_stem\\Madaniyat\n",
      "C:/Users/E-MaxPCShop/Desktop/Uzbek_News_Dataset_small_stem\\Pazandachilik\n",
      "C:/Users/E-MaxPCShop/Desktop/Uzbek_News_Dataset_small_stem\\processed_articles.csv\n",
      "C:/Users/E-MaxPCShop/Desktop/Uzbek_News_Dataset_small_stem\\Qonunchilik\n",
      "C:/Users/E-MaxPCShop/Desktop/Uzbek_News_Dataset_small_stem\\Salomatlik\n",
      "C:/Users/E-MaxPCShop/Desktop/Uzbek_News_Dataset_small_stem\\Siyosat\n",
      "C:/Users/E-MaxPCShop/Desktop/Uzbek_News_Dataset_small_stem\\Sport\n",
      "C:/Users/E-MaxPCShop/Desktop/Uzbek_News_Dataset_small_stem\\Texnologiya\n"
     ]
    }
   ],
   "source": [
    "import os\n",
    "dataset_path = 'C:/Users/E-MaxPCShop/Desktop/Uzbek_News_Dataset_small_stem'\n",
    "\n",
    "data = []\n",
    "for category in os.listdir(dataset_path):\n",
    "    category_path = os.path.join(dataset_path, category)\n",
    "    print(category_path)\n",
    "    # Check if it's a directory (category folder)\n",
    "    if os.path.isdir(category_path):\n",
    "        for filename in os.listdir(category_path)[:8000]:\n",
    "            if filename.endswith('.txt'):\n",
    "                file_path = os.path.join(category_path, filename)\n",
    "                try:\n",
    "                    with open(file_path, 'r', encoding='utf-8') as file:\n",
    "                        article_text = file.read().strip()  # Read and remove leading/trailing spaces\n",
    "                        data.append({'articles': article_text, 'category': category})\n",
    "                except Exception as e:\n",
    "                    print(f\"Error reading file {file_path}: {e}\")\n",
    "\n",
    "dataframe = pd.DataFrame(data)"
   ]
  },
  {
   "cell_type": "code",
   "execution_count": 3,
   "metadata": {
    "colab": {
     "base_uri": "https://localhost:8080/"
    },
    "execution": {
     "iopub.execute_input": "2025-03-08T17:44:48.737322Z",
     "iopub.status.busy": "2025-03-08T17:44:48.737042Z",
     "iopub.status.idle": "2025-03-08T17:44:48.787433Z",
     "shell.execute_reply": "2025-03-08T17:44:48.786584Z",
     "shell.execute_reply.started": "2025-03-08T17:44:48.737290Z"
    },
    "id": "ci03g7OItk8m",
    "outputId": "19f744ff-ca20-4d92-bd76-93b0a92ba76b"
   },
   "outputs": [
    {
     "name": "stdout",
     "output_type": "stream",
     "text": [
      "                                                articles     category\n",
      "0      tesla barcha elektromobil narx osh o‘zbekiston...         Avto\n",
      "1      uzauto motors o‘rindiq isi mode va magnitafon ...         Avto\n",
      "2      lego‘ ming ortiq deta yordam to‘liq o‘lcham fe...         Avto\n",
      "3      naman moskvich ariq ag‘dar ket oqibat bir kish...         Avto\n",
      "4      qo‘qon ypx xodim mashina ust sudra ket haydovc...         Avto\n",
      "...                                                  ...          ...\n",
      "68022  rossiya tiv xakerlik hujum uyush aqsh davlat d...  Texnologiya\n",
      "68023  smartfon batareya nega portla yangi avlod smar...  Texnologiya\n",
      "68024  eng kichkina sensor telefon ish chiq xitoy vph...  Texnologiya\n",
      "68025  xitoy eng badavlat kishi bir yoshli maslahat b...  Texnologiya\n",
      "68026  kodak ektra retro uslub kamerofon kodak kompan...  Texnologiya\n",
      "\n",
      "[68027 rows x 2 columns]\n",
      "Iqtisodiyot      8000\n",
      "Madaniyat        8000\n",
      "Qonunchilik      8000\n",
      "Siyosat          8000\n",
      "Sport            8000\n",
      "Texnologiya      8000\n",
      "Avto             6044\n",
      "Salomatlik       5086\n",
      "Jinoyat          4200\n",
      "Ayollar          2657\n",
      "Pazandachilik    2040\n",
      "Name: category, dtype: int64\n"
     ]
    }
   ],
   "source": [
    "print(dataframe)\n",
    "category_counts = dataframe['category'].value_counts()\n",
    "print(category_counts)"
   ]
  },
  {
   "cell_type": "code",
   "execution_count": 4,
   "metadata": {
    "colab": {
     "base_uri": "https://localhost:8080/"
    },
    "execution": {
     "iopub.execute_input": "2025-03-08T17:44:48.789626Z",
     "iopub.status.busy": "2025-03-08T17:44:48.789356Z",
     "iopub.status.idle": "2025-03-08T17:44:48.831168Z",
     "shell.execute_reply": "2025-03-08T17:44:48.830312Z",
     "shell.execute_reply.started": "2025-03-08T17:44:48.789605Z"
    },
    "id": "QEcryp9GtvPA",
    "outputId": "f871afe6-30f7-4c79-86c2-ce0caf0a2794"
   },
   "outputs": [
    {
     "name": "stdout",
     "output_type": "stream",
     "text": [
      "                                                articles     category  labels\n",
      "0      tesla barcha elektromobil narx osh o‘zbekiston...         Avto       0\n",
      "1      uzauto motors o‘rindiq isi mode va magnitafon ...         Avto       0\n",
      "2      lego‘ ming ortiq deta yordam to‘liq o‘lcham fe...         Avto       0\n",
      "3      naman moskvich ariq ag‘dar ket oqibat bir kish...         Avto       0\n",
      "4      qo‘qon ypx xodim mashina ust sudra ket haydovc...         Avto       0\n",
      "...                                                  ...          ...     ...\n",
      "68022  rossiya tiv xakerlik hujum uyush aqsh davlat d...  Texnologiya      10\n",
      "68023  smartfon batareya nega portla yangi avlod smar...  Texnologiya      10\n",
      "68024  eng kichkina sensor telefon ish chiq xitoy vph...  Texnologiya      10\n",
      "68025  xitoy eng badavlat kishi bir yoshli maslahat b...  Texnologiya      10\n",
      "68026  kodak ektra retro uslub kamerofon kodak kompan...  Texnologiya      10\n",
      "\n",
      "[68027 rows x 3 columns]\n",
      "            category  labels\n",
      "0               Avto       0\n",
      "6044         Ayollar       1\n",
      "8701     Iqtisodiyot       2\n",
      "16701        Jinoyat       3\n",
      "20901      Madaniyat       4\n",
      "28901  Pazandachilik       5\n",
      "30941    Qonunchilik       6\n",
      "38941     Salomatlik       7\n",
      "44027        Siyosat       8\n",
      "52027          Sport       9\n",
      "60027    Texnologiya      10\n"
     ]
    }
   ],
   "source": [
    "# changing category to numeric\n",
    "label=pd.Categorical(dataframe['category']).codes\n",
    "label=pd.DataFrame(label)\n",
    "dataframe['labels']=pd.DataFrame(label)\n",
    "print(dataframe)\n",
    "\n",
    "unique_category_labels = dataframe[['category', 'labels']].drop_duplicates()\n",
    "print(unique_category_labels)"
   ]
  },
  {
   "cell_type": "code",
   "execution_count": 5,
   "metadata": {
    "execution": {
     "iopub.execute_input": "2025-03-08T17:44:48.832772Z",
     "iopub.status.busy": "2025-03-08T17:44:48.832468Z",
     "iopub.status.idle": "2025-03-08T17:44:48.852050Z",
     "shell.execute_reply": "2025-03-08T17:44:48.851240Z",
     "shell.execute_reply.started": "2025-03-08T17:44:48.832747Z"
    },
    "id": "PY9fJaVPt_Qc"
   },
   "outputs": [],
   "source": [
    "# mixing each categories and thier labels\n",
    "dataframe=dataframe.sample(frac=1)"
   ]
  },
  {
   "cell_type": "code",
   "execution_count": 6,
   "metadata": {
    "colab": {
     "base_uri": "https://localhost:8080/"
    },
    "execution": {
     "iopub.execute_input": "2025-03-08T17:44:48.853142Z",
     "iopub.status.busy": "2025-03-08T17:44:48.852891Z",
     "iopub.status.idle": "2025-03-08T17:44:54.362738Z",
     "shell.execute_reply": "2025-03-08T17:44:54.361782Z",
     "shell.execute_reply.started": "2025-03-08T17:44:48.853116Z"
    },
    "id": "dddrQtXVuEd7",
    "outputId": "905b250c-6bbb-4a06-90d4-87d8109a20ae"
   },
   "outputs": [
    {
     "name": "stdout",
     "output_type": "stream",
     "text": [
      "268.61296250018376\n",
      "         category    word_len\n",
      "0            Avto  146.646261\n",
      "1         Ayollar  266.793376\n",
      "2     Iqtisodiyot  250.693875\n",
      "3         Jinoyat  173.905952\n",
      "4       Madaniyat  217.183875\n",
      "5   Pazandachilik   59.436275\n",
      "6     Qonunchilik  757.110125\n",
      "7      Salomatlik  249.351553\n",
      "8         Siyosat  235.452250\n",
      "9           Sport  172.725375\n",
      "10    Texnologiya  186.569125\n"
     ]
    }
   ],
   "source": [
    "dataframe['word_len'] = dataframe['articles'].str.split().str.len()\n",
    "print(dataframe['word_len'].mean())\n",
    "\n",
    "mean_word_len_by_category = dataframe.groupby('category', as_index=False)['word_len'].mean()\n",
    "print(mean_word_len_by_category)"
   ]
  },
  {
   "cell_type": "code",
   "execution_count": 7,
   "metadata": {
    "execution": {
     "iopub.execute_input": "2025-03-08T17:44:54.364016Z",
     "iopub.status.busy": "2025-03-08T17:44:54.363729Z",
     "iopub.status.idle": "2025-03-08T17:44:54.368268Z",
     "shell.execute_reply": "2025-03-08T17:44:54.367367Z",
     "shell.execute_reply.started": "2025-03-08T17:44:54.363991Z"
    },
    "id": "BiZInvEfuHro"
   },
   "outputs": [],
   "source": [
    "#normalizarion\n",
    "import re\n",
    "#method to normalize character level missmatch such as ጸሀይ and ፀሐይ\n",
    "def normalization(input_token):\n",
    "    rep1=re.sub('[ሃኅኃሐሓኻ]','ሀ',input_token)\n",
    "    rep2=re.sub('[ሑኁዅ]','ሁ',rep1)\n",
    "   \n",
    "    return rep2"
   ]
  },
  {
   "cell_type": "code",
   "execution_count": 8,
   "metadata": {
    "execution": {
     "iopub.execute_input": "2025-03-08T17:44:54.369438Z",
     "iopub.status.busy": "2025-03-08T17:44:54.369183Z",
     "iopub.status.idle": "2025-03-08T17:44:58.992858Z",
     "shell.execute_reply": "2025-03-08T17:44:58.992057Z",
     "shell.execute_reply.started": "2025-03-08T17:44:54.369409Z"
    },
    "id": "1vDVwnYIuOXR"
   },
   "outputs": [],
   "source": [
    "# apply normalization and special characters removal\n",
    "dataframe['articles']=dataframe['articles'].apply(lambda x: normalization(x))"
   ]
  },
  {
   "cell_type": "code",
   "execution_count": 9,
   "metadata": {
    "execution": {
     "iopub.execute_input": "2025-03-08T17:44:58.994136Z",
     "iopub.status.busy": "2025-03-08T17:44:58.993764Z",
     "iopub.status.idle": "2025-03-08T17:45:06.539310Z",
     "shell.execute_reply": "2025-03-08T17:45:06.538368Z",
     "shell.execute_reply.started": "2025-03-08T17:44:58.994102Z"
    },
    "id": "bC-nRDvvubvx"
   },
   "outputs": [],
   "source": [
    "# special symbol removal\n",
    "# dataframe['articles']=dataframe['articles'].str.replace('[^\\w\\s]','',regex=True)\n",
    "dataframe['articles']=dataframe['articles'].str.replace(\"O'\",'O‘',regex=True)\n",
    "dataframe['articles']=dataframe['articles'].str.replace(\"G'\",'G‘',regex=True)\n",
    "dataframe['articles']=dataframe['articles'].str.replace(\"o'\",'o‘',regex=True)\n",
    "dataframe['articles']=dataframe['articles'].str.replace(\"g'\",'g‘',regex=True)\n",
    "dataframe['articles']=dataframe['articles'].str.replace('O`','O‘',regex=True)\n",
    "dataframe['articles']=dataframe['articles'].str.replace('G`','G‘',regex=True)\n",
    "dataframe['articles']=dataframe['articles'].str.replace('o`','o‘',regex=True)\n",
    "dataframe['articles']=dataframe['articles'].str.replace('g`','g‘',regex=True)\n",
    "dataframe['articles']=dataframe['articles'].str.replace(\"[^\\w\\s‘’`']\",'',regex=True)\n",
    "dataframe['articles'] = dataframe['articles'].str.replace('\\n\\n', '. ', regex=False)\n",
    "dataframe['articles'] = dataframe['articles'].str.replace('\\n', '. ', regex=False)"
   ]
  },
  {
   "cell_type": "code",
   "execution_count": 10,
   "metadata": {
    "execution": {
     "iopub.execute_input": "2025-03-08T17:45:06.540479Z",
     "iopub.status.busy": "2025-03-08T17:45:06.540233Z",
     "iopub.status.idle": "2025-03-08T17:45:12.112154Z",
     "shell.execute_reply": "2025-03-08T17:45:12.111246Z",
     "shell.execute_reply.started": "2025-03-08T17:45:06.540459Z"
    },
    "id": "RA2Rf2V8ueHz"
   },
   "outputs": [],
   "source": [
    "# removing digits from the dataset\n",
    "dataframe['articles']=dataframe['articles'].str.replace('\\d+','',regex=True)"
   ]
  },
  {
   "cell_type": "code",
   "execution_count": 11,
   "metadata": {
    "execution": {
     "iopub.execute_input": "2025-03-08T17:45:12.113583Z",
     "iopub.status.busy": "2025-03-08T17:45:12.113167Z",
     "iopub.status.idle": "2025-03-08T17:45:12.126249Z",
     "shell.execute_reply": "2025-03-08T17:45:12.125392Z",
     "shell.execute_reply.started": "2025-03-08T17:45:12.113542Z"
    },
    "id": "KPPhtoYlyJoP"
   },
   "outputs": [
    {
     "name": "stdout",
     "output_type": "stream",
     "text": [
      "                                                articles     category  labels  \\\n",
      "5049   gm uzbekistan chevrolet tracker’ sinov o‘tkaz ...         Avto       0   \n",
      "52811  apl arsena safar nur dura qayd et futbo bo‘yic...        Sport       9   \n",
      "48434  prezident lyuksemburg gersog tabrikl o‘zbekist...      Siyosat       8   \n",
      "8719   asosiy tur qishloq xo‘jalig mahsulot zaxira ha...  Iqtisodiyot       2   \n",
      "66427  o‘zbekiston wifi’ boshqar tizim ish chiq inter...  Texnologiya      10   \n",
      "...                                                  ...          ...     ...   \n",
      "60168  finlyandiya internet ulan chashka ixtiro qil f...  Texnologiya      10   \n",
      "10906  yanvar oy toshkent kvartira narx qimmatl o‘tga...  Iqtisodiyot       2   \n",
      "17242  aka o‘z uka jinoyat fosh et yil yanvar kun soa...      Jinoyat       3   \n",
      "47545  tojikiston prezident emoma rahmon bilan telefo...      Siyosat       8   \n",
      "26611  reys film tayyorgarlik jarayon qanday o‘tmoq f...    Madaniyat       4   \n",
      "\n",
      "       word_len  \n",
      "5049        255  \n",
      "52811        98  \n",
      "48434        32  \n",
      "8719        154  \n",
      "66427       196  \n",
      "...         ...  \n",
      "60168       111  \n",
      "10906        82  \n",
      "17242        86  \n",
      "47545        94  \n",
      "26611       298  \n",
      "\n",
      "[68027 rows x 4 columns]\n"
     ]
    }
   ],
   "source": [
    "print(dataframe)"
   ]
  },
  {
   "cell_type": "code",
   "execution_count": 12,
   "metadata": {},
   "outputs": [],
   "source": [
    "dataframe=dataframe[['articles','labels']]"
   ]
  },
  {
   "cell_type": "code",
   "execution_count": 13,
   "metadata": {
    "execution": {
     "iopub.execute_input": "2025-03-08T17:45:12.127558Z",
     "iopub.status.busy": "2025-03-08T17:45:12.127213Z",
     "iopub.status.idle": "2025-03-08T17:45:12.715149Z",
     "shell.execute_reply": "2025-03-08T17:45:12.714284Z",
     "shell.execute_reply.started": "2025-03-08T17:45:12.127525Z"
    },
    "id": "4it24JWyu3Ht"
   },
   "outputs": [],
   "source": [
    "# train test split\n",
    "from sklearn.model_selection import train_test_split\n",
    "X_train, X_test,y_train,y_test = train_test_split(dataframe['articles'],dataframe['labels'], test_size=0.20, random_state=42)"
   ]
  },
  {
   "cell_type": "code",
   "execution_count": 14,
   "metadata": {
    "colab": {
     "base_uri": "https://localhost:8080/"
    },
    "execution": {
     "execution_failed": "2025-03-08T18:24:50.971Z",
     "iopub.execute_input": "2025-03-08T17:45:12.718123Z",
     "iopub.status.busy": "2025-03-08T17:45:12.717586Z"
    },
    "id": "eeBQghW-u93d",
    "outputId": "d385adef-8953-482c-8e2e-7b51442e8ef6"
   },
   "outputs": [],
   "source": [
    "import pandas as pd\n",
    "from sklearn.feature_extraction.text import CountVectorizer\n",
    "from sklearn.model_selection import train_test_split\n",
    "from sklearn.naive_bayes import MultinomialNB\n",
    "from sklearn.neural_network import MLPClassifier\n",
    "from sklearn.metrics import confusion_matrix, accuracy_score, precision_score, recall_score, f1_score, classification_report\n",
    "# Create a Bag-of-Words   model\n",
    "vectorizer = CountVectorizer()\n",
    "X_train_vec = vectorizer.fit_transform(X_train)\n",
    "X_test_vec = vectorizer.transform(X_test)"
   ]
  },
  {
   "cell_type": "code",
   "execution_count": 15,
   "metadata": {},
   "outputs": [
    {
     "name": "stdout",
     "output_type": "stream",
     "text": [
      "Iteration 1, loss = 0.38684299\n",
      "Iteration 2, loss = 0.09984340\n",
      "Iteration 3, loss = 0.04921610\n",
      "Iteration 4, loss = 0.02934202\n",
      "Iteration 5, loss = 0.02293952\n",
      "Iteration 6, loss = 0.01955407\n",
      "Iteration 7, loss = 0.01195688\n",
      "Iteration 8, loss = 0.01670446\n",
      "Iteration 9, loss = 0.00921706\n",
      "Iteration 10, loss = 0.00908723\n",
      "Iteration 11, loss = 0.00767793\n",
      "Iteration 12, loss = 0.00681109\n",
      "Iteration 13, loss = 0.01820197\n",
      "Iteration 14, loss = 0.01845660\n",
      "Iteration 15, loss = 0.02180409\n",
      "Iteration 16, loss = 0.01548547\n",
      "Iteration 17, loss = 0.01363477\n",
      "Iteration 18, loss = 0.00918326\n",
      "Iteration 19, loss = 0.00877896\n",
      "Iteration 20, loss = 0.00511224\n",
      "Iteration 21, loss = 0.00408738\n",
      "Iteration 22, loss = 0.00418090\n",
      "Iteration 23, loss = 0.00545048\n",
      "Iteration 24, loss = 0.00788516\n",
      "Iteration 25, loss = 0.00828869\n",
      "Iteration 26, loss = 0.00808646\n",
      "Iteration 27, loss = 0.01507006\n",
      "Iteration 28, loss = 0.01724766\n",
      "Iteration 29, loss = 0.00659579\n",
      "Iteration 30, loss = 0.00556023\n",
      "Iteration 31, loss = 0.00472854\n",
      "Iteration 32, loss = 0.00416694\n",
      "Training loss did not improve more than tol=0.000100 for 10 consecutive epochs. Stopping.\n",
      "Accuracy: 0.9313538144936058\n",
      "Precision: 0.9298368645106801\n",
      "Recall: 0.9266722523391923\n",
      "F1-score: 0.9281557076251804\n",
      "              precision    recall  f1-score   support\n",
      "\n",
      "           0       0.88      0.90      0.89      1228\n",
      "           1       0.85      0.80      0.82       581\n",
      "           2       0.88      0.87      0.87      1616\n",
      "           3       0.96      0.97      0.97       779\n",
      "           4       0.97      0.97      0.97      1552\n",
      "           5       0.99      0.97      0.98       402\n",
      "           6       0.98      0.99      0.99      1580\n",
      "           7       0.90      0.91      0.90       999\n",
      "           8       0.93      0.93      0.93      1608\n",
      "           9       0.99      0.99      0.99      1640\n",
      "          10       0.90      0.90      0.90      1621\n",
      "\n",
      "    accuracy                           0.93     13606\n",
      "   macro avg       0.93      0.93      0.93     13606\n",
      "weighted avg       0.93      0.93      0.93     13606\n",
      "\n"
     ]
    }
   ],
   "source": [
    "# create mlp classifier\n",
    "clf = MLPClassifier(hidden_layer_sizes=(100,), activation='relu', solver='adam', max_iter=50, verbose=True)\n",
    "\n",
    "clf.fit(X_train_vec, y_train)\n",
    "\n",
    "# Predict on the test set\n",
    "y_pred = clf.predict(X_test_vec)\n",
    "# Evaluate the model\n",
    "print(\"Accuracy:\", accuracy_score(y_test, y_pred))\n",
    "print(\"Precision:\", precision_score(y_test, y_pred, average='macro')) # Changed line: Added average='macro'\n",
    "print(\"Recall:\", recall_score(y_test, y_pred,average='macro')) # Changed line: Added average='macro'\n",
    "print(\"F1-score:\", f1_score(y_test, y_pred,average='macro')) # Changed line: Added average='macro'\n",
    "print(classification_report(y_test, y_pred))\n",
    "cm = confusion_matrix(y_test, y_pred)"
   ]
  },
  {
   "cell_type": "code",
   "execution_count": 16,
   "metadata": {},
   "outputs": [
    {
     "data": {
      "image/png": "[encoded data removed]",
      "text/plain": [
       "<Figure size 720x576 with 2 Axes>"
      ]
     },
     "metadata": {
      "needs_background": "light"
     },
     "output_type": "display_data"
    }
   ],
   "source": [
    "import matplotlib.pyplot as plt\n",
    "import seaborn as sns\n",
    "\n",
    "# Plot confusion matrix\n",
    "plt.figure(figsize=(10, 8))\n",
    "sns.heatmap(cm, annot=True, fmt=\"d\", cmap=\"Blues\")\n",
    "plt.xlabel(\"Predicted Labels\")\n",
    "plt.ylabel(\"True Labels\")\n",
    "plt.title(\"Confusion Matrix\")\n",
    "plt.show()"
   ]
  },
  {
   "cell_type": "code",
   "execution_count": 17,
   "metadata": {},
   "outputs": [
    {
     "data": {
      "image/png": "[encoded data removed]",
      "text/plain": [
       "<Figure size 576x360 with 1 Axes>"
      ]
     },
     "metadata": {
      "needs_background": "light"
     },
     "output_type": "display_data"
    }
   ],
   "source": [
    "import matplotlib.pyplot as plt\n",
    "\n",
    "# Plotting the training loss curve\n",
    "plt.figure(figsize=(8, 5))\n",
    "plt.plot(clf.loss_curve_, label='Training Loss', color='red')\n",
    "plt.xlabel('Iterations')\n",
    "plt.ylabel('Loss')\n",
    "plt.title('Training Loss Over Iterations')\n",
    "plt.grid(True)\n",
    "plt.legend()\n",
    "plt.show()"
   ]
  },
  {
   "cell_type": "code",
   "execution_count": null,
   "metadata": {},
   "outputs": [],
   "source": [
    "import matplotlib.pyplot as plt\n",
    "import numpy as np\n",
    "\n",
    "# Initialize classifier\n",
    "clf = MLPClassifier(hidden_layer_sizes=(100,), activation='relu', solver='adam', max_iter=500, warm_start=True, verbose=False)\n",
    "\n",
    "# Tracking accuracies\n",
    "train_acc = []\n",
    "test_acc = []\n",
    "\n",
    "# Training loop to track accuracy over iterations\n",
    "for i in range(1000):  # Matches your max_iter\n",
    "    clf.fit(X_train_vec, y_train)\n",
    "    \n",
    "    train_acc.append(clf.score(X_train_vec, y_train))\n",
    "    test_acc.append(clf.score(X_test_vec, y_test))\n",
    "\n",
    "# Plotting accuracy\n",
    "plt.figure(figsize=(10, 5))\n",
    "plt.plot(train_acc, label='Training Accuracy', color='green')\n",
    "plt.plot(test_acc, label='Test Accuracy', color='red')\n",
    "plt.title('Training and Test Accuracy Over Iterations')\n",
    "plt.xlabel('Iterations')\n",
    "plt.ylabel('Accuracy')\n",
    "plt.legend()\n",
    "plt.grid(True)\n",
    "plt.show()"
   ]
  },
  {
   "cell_type": "code",
   "execution_count": null,
   "metadata": {},
   "outputs": [],
   "source": []
  }
 ],
 "metadata": {
  "colab": {
   "authorship_tag": "ABX9TyNfbQmNi5GT2iWZIwQntt3V",
   "include_colab_link": true,
   "provenance": []
  },
  "kaggle": {
   "accelerator": "none",
   "dataSources": [
    {
     "datasetId": 6802262,
     "sourceId": 10938282,
     "sourceType": "datasetVersion"
    }
   ],
   "dockerImageVersionId": 30918,
   "isGpuEnabled": false,
   "isInternetEnabled": false,
   "language": "python",
   "sourceType": "notebook"
  },
  "kernelspec": {
   "display_name": "Python 3 (ipykernel)",
   "language": "python",
   "name": "python3"
  },
  "language_info": {
   "codemirror_mode": {
    "name": "ipython",
    "version": 3
   },
   "file_extension": ".py",
   "mimetype": "text/x-python",
   "name": "python",
   "nbconvert_exporter": "python",
   "pygments_lexer": "ipython3",
   "version": "3.9.12"
  }
 },
 "nbformat": 4,
 "nbformat_minor": 4
}
