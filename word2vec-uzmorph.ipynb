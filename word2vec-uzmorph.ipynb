{
 "cells": [
  {
   "cell_type": "markdown",
   "metadata": {
    "colab_type": "text",
    "id": "view-in-github"
   },
   "source": [
    "<a href=\"https://colab.research.google.com/github/demekeendalie/Fine-tuning-bert-model-for-amharic-news-classification/blob/main/word2vec_classifier.ipynb\" target=\"_parent\"><img src=\"https://colab.research.google.com/assets/colab-badge.svg\" alt=\"Open In Colab\"/></a>"
   ]
  },
  {
   "cell_type": "code",
   "execution_count": 1,
   "metadata": {
    "execution": {
     "iopub.execute_input": "2025-03-06T09:36:25.820695Z",
     "iopub.status.busy": "2025-03-06T09:36:25.820321Z",
     "iopub.status.idle": "2025-03-06T09:36:25.825417Z",
     "shell.execute_reply": "2025-03-06T09:36:25.824123Z",
     "shell.execute_reply.started": "2025-03-06T09:36:25.820663Z"
    },
    "id": "okwyohCrkPjj"
   },
   "outputs": [],
   "source": [
    "from gensim.models import Word2Vec\n",
    "import gensim"
   ]
  },
  {
   "cell_type": "code",
   "execution_count": 2,
   "metadata": {
    "execution": {
     "iopub.execute_input": "2025-03-06T09:36:25.827390Z",
     "iopub.status.busy": "2025-03-06T09:36:25.826930Z",
     "iopub.status.idle": "2025-03-06T09:36:25.844667Z",
     "shell.execute_reply": "2025-03-06T09:36:25.843501Z",
     "shell.execute_reply.started": "2025-03-06T09:36:25.827343Z"
    },
    "id": "4BpCY3EvlT9i"
   },
   "outputs": [],
   "source": [
    "import pandas as pd\n",
    "import numpy as np\n",
    "import tensorflow as tf"
   ]
  },
  {
   "cell_type": "code",
   "execution_count": 3,
   "metadata": {
    "execution": {
     "iopub.execute_input": "2025-03-06T09:36:25.846950Z",
     "iopub.status.busy": "2025-03-06T09:36:25.846569Z",
     "iopub.status.idle": "2025-03-06T09:37:50.094335Z",
     "shell.execute_reply": "2025-03-06T09:37:50.093161Z",
     "shell.execute_reply.started": "2025-03-06T09:36:25.846920Z"
    },
    "id": "MLVamiBWmmlj"
   },
   "outputs": [
    {
     "name": "stdout",
     "output_type": "stream",
     "text": [
      "C:/Users/E-MaxPCShop/Desktop/Uzbek_News_Dataset_small_stem\\Avto\n",
      "C:/Users/E-MaxPCShop/Desktop/Uzbek_News_Dataset_small_stem\\Ayollar\n",
      "C:/Users/E-MaxPCShop/Desktop/Uzbek_News_Dataset_small_stem\\Iqtisodiyot\n",
      "C:/Users/E-MaxPCShop/Desktop/Uzbek_News_Dataset_small_stem\\Jinoyat\n",
      "C:/Users/E-MaxPCShop/Desktop/Uzbek_News_Dataset_small_stem\\Madaniyat\n",
      "C:/Users/E-MaxPCShop/Desktop/Uzbek_News_Dataset_small_stem\\Pazandachilik\n",
      "C:/Users/E-MaxPCShop/Desktop/Uzbek_News_Dataset_small_stem\\Qonunchilik\n",
      "C:/Users/E-MaxPCShop/Desktop/Uzbek_News_Dataset_small_stem\\Salomatlik\n",
      "C:/Users/E-MaxPCShop/Desktop/Uzbek_News_Dataset_small_stem\\Siyosat\n",
      "C:/Users/E-MaxPCShop/Desktop/Uzbek_News_Dataset_small_stem\\Sport\n",
      "C:/Users/E-MaxPCShop/Desktop/Uzbek_News_Dataset_small_stem\\Texnologiya\n"
     ]
    }
   ],
   "source": [
    "import os\n",
    "dataset_path = 'C:/Users/E-MaxPCShop/Desktop/Uzbek_News_Dataset_small_stem'\n",
    "data = []\n",
    "for category in os.listdir(dataset_path):\n",
    "    category_path = os.path.join(dataset_path, category)\n",
    "    \n",
    "    # Check if it's a directory (category folder)\n",
    "    if os.path.isdir(category_path):\n",
    "        print(category_path)\n",
    "        for filename in os.listdir(category_path):\n",
    "            if filename.endswith('.txt'):\n",
    "                file_path = os.path.join(category_path, filename)\n",
    "                try:\n",
    "                    with open(file_path, 'r', encoding='utf-8') as file:\n",
    "                        article_text = file.read().strip()  # Read and remove leading/trailing spaces\n",
    "                        data.append({'articles': article_text, 'category': category})\n",
    "                except Exception as e:\n",
    "                    print(f\"Error reading file {file_path}: {e}\")\n",
    "\n",
    "dataframe = pd.DataFrame(data)"
   ]
  },
  {
   "cell_type": "code",
   "execution_count": 4,
   "metadata": {
    "colab": {
     "base_uri": "https://localhost:8080/"
    },
    "execution": {
     "iopub.execute_input": "2025-03-06T09:37:50.096499Z",
     "iopub.status.busy": "2025-03-06T09:37:50.096181Z",
     "iopub.status.idle": "2025-03-06T09:37:50.115007Z",
     "shell.execute_reply": "2025-03-06T09:37:50.113837Z",
     "shell.execute_reply.started": "2025-03-06T09:37:50.096470Z"
    },
    "id": "MbWp6qummr2j",
    "outputId": "0a458364-d304-4c6f-c091-03d304f760b2"
   },
   "outputs": [
    {
     "name": "stdout",
     "output_type": "stream",
     "text": [
      "                                                 articles     category\n",
      "0       tesla barcha elektromobil narx osh o‘zbekiston...         Avto\n",
      "1       uzauto motors o‘rindiq isi mode va magnitafon ...         Avto\n",
      "2       lego‘ ming ortiq deta yordam to‘liq o‘lcham fe...         Avto\n",
      "3       naman moskvich ariq ag‘dar ket oqibat bir kish...         Avto\n",
      "4       qo‘qon ypx xodim mashina ust sudra ket haydovc...         Avto\n",
      "...                                                   ...          ...\n",
      "102955  sony mm qalinlik yangi xperia t smartfon taqdi...  Texnologiya\n",
      "102956  acer kompaniya yangi iconia a planshet olmaota...  Texnologiya\n",
      "102957  lg g ommaboplik samsu galaxy s’n ort qol janub...  Texnologiya\n",
      "102958  vertu kompaniya ming yevrolik titan smartfon c...  Texnologiya\n",
      "102959  apple yangi ios operatsion tizim taqdim et app...  Texnologiya\n",
      "\n",
      "[102960 rows x 2 columns]\n",
      "Texnologiya      17541\n",
      "Qonunchilik      14779\n",
      "Sport            13403\n",
      "Madaniyat        12798\n",
      "Siyosat          12247\n",
      "Iqtisodiyot      12165\n",
      "Avto              6044\n",
      "Salomatlik        5086\n",
      "Jinoyat           4200\n",
      "Ayollar           2657\n",
      "Pazandachilik     2040\n",
      "Name: category, dtype: int64\n"
     ]
    }
   ],
   "source": [
    "print(dataframe)\n",
    "category_counts = dataframe['category'].value_counts()\n",
    "print(category_counts)"
   ]
  },
  {
   "cell_type": "code",
   "execution_count": 5,
   "metadata": {
    "colab": {
     "base_uri": "https://localhost:8080/"
    },
    "execution": {
     "iopub.execute_input": "2025-03-06T09:37:50.116385Z",
     "iopub.status.busy": "2025-03-06T09:37:50.116023Z",
     "iopub.status.idle": "2025-03-06T09:37:50.159713Z",
     "shell.execute_reply": "2025-03-06T09:37:50.158550Z",
     "shell.execute_reply.started": "2025-03-06T09:37:50.116343Z"
    },
    "id": "PKCpHKVFmuq0",
    "outputId": "80eee0c2-6811-460f-fa48-0021ba835c79"
   },
   "outputs": [
    {
     "name": "stdout",
     "output_type": "stream",
     "text": [
      "                                                 articles     category  labels\n",
      "0       tesla barcha elektromobil narx osh o‘zbekiston...         Avto       0\n",
      "1       uzauto motors o‘rindiq isi mode va magnitafon ...         Avto       0\n",
      "2       lego‘ ming ortiq deta yordam to‘liq o‘lcham fe...         Avto       0\n",
      "3       naman moskvich ariq ag‘dar ket oqibat bir kish...         Avto       0\n",
      "4       qo‘qon ypx xodim mashina ust sudra ket haydovc...         Avto       0\n",
      "...                                                   ...          ...     ...\n",
      "102955  sony mm qalinlik yangi xperia t smartfon taqdi...  Texnologiya      10\n",
      "102956  acer kompaniya yangi iconia a planshet olmaota...  Texnologiya      10\n",
      "102957  lg g ommaboplik samsu galaxy s’n ort qol janub...  Texnologiya      10\n",
      "102958  vertu kompaniya ming yevrolik titan smartfon c...  Texnologiya      10\n",
      "102959  apple yangi ios operatsion tizim taqdim et app...  Texnologiya      10\n",
      "\n",
      "[102960 rows x 3 columns]\n",
      "            category  labels\n",
      "0               Avto       0\n",
      "6044         Ayollar       1\n",
      "8701     Iqtisodiyot       2\n",
      "20866        Jinoyat       3\n",
      "25066      Madaniyat       4\n",
      "37864  Pazandachilik       5\n",
      "39904    Qonunchilik       6\n",
      "54683     Salomatlik       7\n",
      "59769        Siyosat       8\n",
      "72016          Sport       9\n",
      "85419    Texnologiya      10\n"
     ]
    }
   ],
   "source": [
    "# changing category to numeric\n",
    "label=pd.Categorical(dataframe['category']).codes\n",
    "label=pd.DataFrame(label)\n",
    "dataframe['labels']=pd.DataFrame(label)\n",
    "print(dataframe)\n",
    "\n",
    "unique_category_labels = dataframe[['category', 'labels']].drop_duplicates()\n",
    "print(unique_category_labels)"
   ]
  },
  {
   "cell_type": "code",
   "execution_count": 6,
   "metadata": {
    "execution": {
     "iopub.execute_input": "2025-03-06T09:37:50.161177Z",
     "iopub.status.busy": "2025-03-06T09:37:50.160866Z",
     "iopub.status.idle": "2025-03-06T09:37:50.182409Z",
     "shell.execute_reply": "2025-03-06T09:37:50.181388Z",
     "shell.execute_reply.started": "2025-03-06T09:37:50.161147Z"
    },
    "id": "SoclhhFnm0Pr"
   },
   "outputs": [],
   "source": [
    "# mixing each categories and thier labels\n",
    "dataframe=dataframe.sample(frac=1)"
   ]
  },
  {
   "cell_type": "code",
   "execution_count": 7,
   "metadata": {
    "colab": {
     "base_uri": "https://localhost:8080/"
    },
    "execution": {
     "iopub.execute_input": "2025-03-06T09:37:50.184013Z",
     "iopub.status.busy": "2025-03-06T09:37:50.183709Z",
     "iopub.status.idle": "2025-03-06T09:37:55.182013Z",
     "shell.execute_reply": "2025-03-06T09:37:55.180979Z",
     "shell.execute_reply.started": "2025-03-06T09:37:50.183986Z"
    },
    "id": "1AsqWTNkm8mL",
    "outputId": "aa5bc2eb-ea4c-4bcc-ca84-eefc0a13c834"
   },
   "outputs": [
    {
     "name": "stdout",
     "output_type": "stream",
     "text": [
      "267.79334693084695\n",
      "                                                 articles     category  \\\n",
      "94124   amazon suv o‘tkaz elektron kitob taqdim et ame...  Texnologiya   \n",
      "41026   o‘zbekiston respublika ma’muriy javobgarlik to...  Qonunchilik   \n",
      "8454    kimyoviy mahsulot foydalan soch dazmol tekisla...      Ayollar   \n",
      "32189   xvorostovskiy oila gul o‘rn xayriya qil chaq y...    Madaniyat   \n",
      "68385   o‘zbekiston prezident shavkat mirziyoyev may x...      Siyosat   \n",
      "...                                                   ...          ...   \n",
      "30342   o‘zbekiston haqida kino ol istag bo‘l xorijlik...    Madaniyat   \n",
      "47864   ipoteka kredit ber kengay boʻyi choratadbir ta...  Qonunchilik   \n",
      "100156  toshkent fleshka savdo majmuas sot planshet na...  Texnologiya   \n",
      "61704   prezident bugun poytaxt yangihayot tuman barpo...      Siyosat   \n",
      "49081   oʻzbekinvest milliy kompaniya ajga qay tashkil...  Qonunchilik   \n",
      "\n",
      "        labels  word_len  \n",
      "94124       10        96  \n",
      "41026        6       103  \n",
      "8454         1       677  \n",
      "32189        4        86  \n",
      "68385        8       761  \n",
      "...        ...       ...  \n",
      "30342        4        48  \n",
      "47864        6       256  \n",
      "100156      10       133  \n",
      "61704        8       113  \n",
      "49081        6        80  \n",
      "\n",
      "[102960 rows x 4 columns]\n",
      "         category    word_len\n",
      "0            Avto  146.646261\n",
      "1         Ayollar  266.793376\n",
      "2     Iqtisodiyot  243.126346\n",
      "3         Jinoyat  173.905952\n",
      "4       Madaniyat  221.432724\n",
      "5   Pazandachilik   59.436275\n",
      "6     Qonunchilik  651.798295\n",
      "7      Salomatlik  249.351553\n",
      "8         Siyosat  271.571487\n",
      "9           Sport  157.386331\n",
      "10    Texnologiya  170.862893\n"
     ]
    }
   ],
   "source": [
    "dataframe['word_len'] = dataframe['articles'].str.split().str.len()\n",
    "print(dataframe['word_len'].mean())\n",
    "print(dataframe)\n",
    "\n",
    "mean_word_len_by_category = dataframe.groupby('category', as_index=False)['word_len'].mean()\n",
    "print(mean_word_len_by_category)"
   ]
  },
  {
   "cell_type": "code",
   "execution_count": 8,
   "metadata": {
    "execution": {
     "iopub.execute_input": "2025-03-06T09:37:55.185417Z",
     "iopub.status.busy": "2025-03-06T09:37:55.185092Z",
     "iopub.status.idle": "2025-03-06T09:37:55.190505Z",
     "shell.execute_reply": "2025-03-06T09:37:55.189303Z",
     "shell.execute_reply.started": "2025-03-06T09:37:55.185388Z"
    },
    "id": "DsyBbzKvnCcD"
   },
   "outputs": [],
   "source": [
    "#normalizarion\n",
    "import re\n",
    "#method to normalize character level missmatch such as ጸሀይ and ፀሐይ\n",
    "def normalization(input_token):\n",
    "    rep1=re.sub('[ሃኅኃሐሓኻ]','ሀ',input_token)\n",
    "    rep2=re.sub('[ሑኁዅ]','ሁ',rep1)\n",
    "    return rep2\n"
   ]
  },
  {
   "cell_type": "code",
   "execution_count": 9,
   "metadata": {
    "execution": {
     "iopub.execute_input": "2025-03-06T09:37:55.192385Z",
     "iopub.status.busy": "2025-03-06T09:37:55.192030Z",
     "iopub.status.idle": "2025-03-06T09:37:59.851542Z",
     "shell.execute_reply": "2025-03-06T09:37:59.850427Z",
     "shell.execute_reply.started": "2025-03-06T09:37:55.192357Z"
    },
    "id": "JqOdoRIgnEdr"
   },
   "outputs": [],
   "source": [
    "# apply normalization and special characters removal\n",
    "# dataframe['articles']=dataframe['articles'].apply(lambda x: normalization(x))"
   ]
  },
  {
   "cell_type": "code",
   "execution_count": 10,
   "metadata": {
    "execution": {
     "iopub.execute_input": "2025-03-06T09:37:59.853084Z",
     "iopub.status.busy": "2025-03-06T09:37:59.852683Z",
     "iopub.status.idle": "2025-03-06T09:38:06.940597Z",
     "shell.execute_reply": "2025-03-06T09:38:06.939389Z",
     "shell.execute_reply.started": "2025-03-06T09:37:59.853044Z"
    },
    "id": "oNxI5Hq1nIcT"
   },
   "outputs": [
    {
     "name": "stdout",
     "output_type": "stream",
     "text": [
      "                                                 articles     category  \\\n",
      "94124   amazon suv o‘tkaz elektron kitob taqdim et ame...  Texnologiya   \n",
      "41026   o‘zbekiston respublika ma’muriy javobgarlik to...  Qonunchilik   \n",
      "8454    kimyoviy mahsulot foydalan soch dazmol tekisla...      Ayollar   \n",
      "32189   xvorostovskiy oila gul o‘rn xayriya qil chaq y...    Madaniyat   \n",
      "68385   o‘zbekiston prezident shavkat mirziyoyev may x...      Siyosat   \n",
      "...                                                   ...          ...   \n",
      "30342   o‘zbekiston haqida kino ol istag bo‘l xorijlik...    Madaniyat   \n",
      "47864   ipoteka kredit ber kengay boʻyi choratadbir ta...  Qonunchilik   \n",
      "100156  toshkent fleshka savdo majmuas sot planshet na...  Texnologiya   \n",
      "61704   prezident bugun poytaxt yangihayot tuman barpo...      Siyosat   \n",
      "49081   oʻzbekinvest milliy kompaniya ajga qay tashkil...  Qonunchilik   \n",
      "\n",
      "        labels  word_len  \n",
      "94124       10        96  \n",
      "41026        6       103  \n",
      "8454         1       677  \n",
      "32189        4        86  \n",
      "68385        8       761  \n",
      "...        ...       ...  \n",
      "30342        4        48  \n",
      "47864        6       256  \n",
      "100156      10       133  \n",
      "61704        8       113  \n",
      "49081        6        80  \n",
      "\n",
      "[102960 rows x 4 columns]\n",
      "                                                articles     category  labels  \\\n",
      "94124  amazon suv o‘tkaz elektron kitob taqdim et ame...  Texnologiya      10   \n",
      "41026  o‘zbekiston respublika ma’muriy javobgarlik to...  Qonunchilik       6   \n",
      "8454   kimyoviy mahsulot foydalan soch dazmol tekisla...      Ayollar       1   \n",
      "32189  xvorostovskiy oila gul o‘rn xayriya qil chaq y...    Madaniyat       4   \n",
      "68385  o‘zbekiston prezident shavkat mirziyoyev may x...      Siyosat       8   \n",
      "\n",
      "       word_len  \n",
      "94124        96  \n",
      "41026       103  \n",
      "8454        677  \n",
      "32189        86  \n",
      "68385       761  \n"
     ]
    }
   ],
   "source": [
    "# special symbol removal\n",
    "dataframe['articles']=dataframe['articles'].str.replace(\"O'\",'O‘',regex=True)\n",
    "dataframe['articles']=dataframe['articles'].str.replace(\"G'\",'G‘',regex=True)\n",
    "dataframe['articles']=dataframe['articles'].str.replace(\"o'\",'o‘',regex=True)\n",
    "dataframe['articles']=dataframe['articles'].str.replace(\"g'\",'g‘',regex=True)\n",
    "dataframe['articles']=dataframe['articles'].str.replace('O`','O‘',regex=True)\n",
    "dataframe['articles']=dataframe['articles'].str.replace('G`','G‘',regex=True)\n",
    "dataframe['articles']=dataframe['articles'].str.replace('o`','o‘',regex=True)\n",
    "dataframe['articles']=dataframe['articles'].str.replace('g`','g‘',regex=True)\n",
    "dataframe['articles']=dataframe['articles'].str.replace(\"[^\\w\\s‘’`']\",'',regex=True)\n",
    "dataframe['articles'] = dataframe['articles'].str.replace('\\n\\n', '. ', regex=False)\n",
    "dataframe['articles'] = dataframe['articles'].str.replace('\\n', '. ', regex=False)\n",
    "print(dataframe)\n",
    "print(dataframe.head())"
   ]
  },
  {
   "cell_type": "code",
   "execution_count": 11,
   "metadata": {
    "execution": {
     "iopub.execute_input": "2025-03-06T09:38:06.942203Z",
     "iopub.status.busy": "2025-03-06T09:38:06.941809Z",
     "iopub.status.idle": "2025-03-06T09:38:12.713381Z",
     "shell.execute_reply": "2025-03-06T09:38:12.712525Z",
     "shell.execute_reply.started": "2025-03-06T09:38:06.942161Z"
    },
    "id": "Dl0TTTpcnOBL"
   },
   "outputs": [],
   "source": [
    "# removing digits from the dataset\n",
    "dataframe['articles']=dataframe['articles'].str.replace('\\d+','',regex=True)"
   ]
  },
  {
   "cell_type": "code",
   "execution_count": 12,
   "metadata": {
    "execution": {
     "iopub.execute_input": "2025-03-06T09:38:12.714646Z",
     "iopub.status.busy": "2025-03-06T09:38:12.714276Z",
     "iopub.status.idle": "2025-03-06T09:38:12.729469Z",
     "shell.execute_reply": "2025-03-06T09:38:12.728349Z",
     "shell.execute_reply.started": "2025-03-06T09:38:12.714598Z"
    },
    "id": "OFT0PjwYnRzD"
   },
   "outputs": [
    {
     "name": "stdout",
     "output_type": "stream",
     "text": [
      "                                                 articles  labels\n",
      "94124   amazon suv o‘tkaz elektron kitob taqdim et ame...      10\n",
      "41026   o‘zbekiston respublika ma’muriy javobgarlik to...       6\n",
      "8454    kimyoviy mahsulot foydalan soch dazmol tekisla...       1\n",
      "32189   xvorostovskiy oila gul o‘rn xayriya qil chaq y...       4\n",
      "68385   o‘zbekiston prezident shavkat mirziyoyev may x...       8\n",
      "...                                                   ...     ...\n",
      "30342   o‘zbekiston haqida kino ol istag bo‘l xorijlik...       4\n",
      "47864   ipoteka kredit ber kengay boʻyi choratadbir ta...       6\n",
      "100156  toshkent fleshka savdo majmuas sot planshet na...      10\n",
      "61704   prezident bugun poytaxt yangihayot tuman barpo...       8\n",
      "49081   oʻzbekinvest milliy kompaniya ajga qay tashkil...       6\n",
      "\n",
      "[102960 rows x 2 columns]\n"
     ]
    }
   ],
   "source": [
    "dataframe=dataframe[['articles','labels']]\n",
    "print(dataframe)"
   ]
  },
  {
   "cell_type": "code",
   "execution_count": 13,
   "metadata": {
    "execution": {
     "iopub.execute_input": "2025-03-06T09:38:12.730832Z",
     "iopub.status.busy": "2025-03-06T09:38:12.730538Z",
     "iopub.status.idle": "2025-03-06T09:38:12.762156Z",
     "shell.execute_reply": "2025-03-06T09:38:12.761000Z",
     "shell.execute_reply.started": "2025-03-06T09:38:12.730807Z"
    },
    "id": "i-qXpGvKnflT"
   },
   "outputs": [],
   "source": [
    "# train test split\n",
    "from sklearn.model_selection import train_test_split\n",
    "X_train, X_test,y_train,y_test = train_test_split(dataframe['articles'],dataframe['labels'], test_size=0.20, random_state=42)"
   ]
  },
  {
   "cell_type": "code",
   "execution_count": 14,
   "metadata": {
    "execution": {
     "iopub.execute_input": "2025-03-06T09:38:12.763925Z",
     "iopub.status.busy": "2025-03-06T09:38:12.763585Z",
     "iopub.status.idle": "2025-03-06T09:40:24.052008Z",
     "shell.execute_reply": "2025-03-06T09:40:24.051009Z",
     "shell.execute_reply.started": "2025-03-06T09:38:12.763896Z"
    },
    "id": "Hv9-tr3_oVQl"
   },
   "outputs": [],
   "source": [
    "from gensim.models import Word2Vec\n",
    "sentences = [document.split() for document in X_train]\n",
    "w2v_model = Word2Vec(sentences, vector_size=100, window=5, min_count=5, workers=4)"
   ]
  },
  {
   "cell_type": "code",
   "execution_count": 15,
   "metadata": {
    "colab": {
     "base_uri": "https://localhost:8080/"
    },
    "execution": {
     "iopub.execute_input": "2025-03-06T09:40:24.053675Z",
     "iopub.status.busy": "2025-03-06T09:40:24.053175Z",
     "iopub.status.idle": "2025-03-06T09:40:24.059499Z",
     "shell.execute_reply": "2025-03-06T09:40:24.058432Z",
     "shell.execute_reply.started": "2025-03-06T09:40:24.053629Z"
    },
    "id": "75KutzM_qJXS",
    "outputId": "1d877243-33fe-4d4c-e224-e1a7864f001d"
   },
   "outputs": [
    {
     "name": "stdout",
     "output_type": "stream",
     "text": [
      "Word2Vec(vocab=53306, vector_size=100, alpha=0.025)\n"
     ]
    }
   ],
   "source": [
    "print(w2v_model)"
   ]
  },
  {
   "cell_type": "code",
   "execution_count": 16,
   "metadata": {
    "execution": {
     "iopub.execute_input": "2025-03-06T09:40:24.061093Z",
     "iopub.status.busy": "2025-03-06T09:40:24.060748Z",
     "iopub.status.idle": "2025-03-06T09:41:49.238311Z",
     "shell.execute_reply": "2025-03-06T09:41:49.237312Z",
     "shell.execute_reply.started": "2025-03-06T09:40:24.061057Z"
    },
    "id": "vjA7qAHqqQ3M"
   },
   "outputs": [],
   "source": [
    "import numpy as np\n",
    "\n",
    "def vectorize(sentence):\n",
    "    words = sentence.split()\n",
    "    \n",
    "    words_vecs = [w2v_model.wv[word] for word in words if word in w2v_model.wv]\n",
    "    if len(words_vecs) == 0:\n",
    "        return np.zeros(100)\n",
    "    words_vecs = np.array(words_vecs)\n",
    "    return words_vecs.mean(axis=0)\n",
    "\n",
    "X_train = np.array([vectorize(sentence) for sentence in X_train])\n",
    "X_test = np.array([vectorize(sentence) for sentence in X_test])"
   ]
  },
  {
   "cell_type": "code",
   "execution_count": 17,
   "metadata": {
    "colab": {
     "base_uri": "https://localhost:8080/",
     "height": 80
    },
    "execution": {
     "iopub.execute_input": "2025-03-06T09:41:49.241414Z",
     "iopub.status.busy": "2025-03-06T09:41:49.241116Z",
     "iopub.status.idle": "2025-03-06T09:46:58.405336Z",
     "shell.execute_reply": "2025-03-06T09:46:58.404266Z",
     "shell.execute_reply.started": "2025-03-06T09:41:49.241389Z"
    },
    "id": "NYMslc8iqlhU",
    "outputId": "8e775e87-074d-4ef7-b2ab-1d9bd6388834"
   },
   "outputs": [
    {
     "name": "stdout",
     "output_type": "stream",
     "text": [
      "Iteration 1, loss = 0.49355934\n",
      "Iteration 2, loss = 0.28953522\n",
      "Iteration 3, loss = 0.26865669\n",
      "Iteration 4, loss = 0.25485172\n",
      "Iteration 5, loss = 0.24521472\n",
      "Iteration 6, loss = 0.23672140\n",
      "Iteration 7, loss = 0.23081282\n",
      "Iteration 8, loss = 0.22525563\n",
      "Iteration 9, loss = 0.22032088\n",
      "Iteration 10, loss = 0.21615979\n",
      "Iteration 11, loss = 0.21283908\n",
      "Iteration 12, loss = 0.21055258\n",
      "Iteration 13, loss = 0.20698256\n",
      "Iteration 14, loss = 0.20380800\n",
      "Iteration 15, loss = 0.20283782\n",
      "Iteration 16, loss = 0.19974298\n",
      "Iteration 17, loss = 0.19751472\n",
      "Iteration 18, loss = 0.19521476\n",
      "Iteration 19, loss = 0.19375924\n",
      "Iteration 20, loss = 0.19148356\n",
      "Iteration 21, loss = 0.19011668\n",
      "Iteration 22, loss = 0.18776439\n",
      "Iteration 23, loss = 0.18635962\n",
      "Iteration 24, loss = 0.18520429\n",
      "Iteration 25, loss = 0.18335433\n",
      "Iteration 26, loss = 0.18229295\n",
      "Iteration 27, loss = 0.18194373\n",
      "Iteration 28, loss = 0.17913047\n",
      "Iteration 29, loss = 0.17847002\n",
      "Iteration 30, loss = 0.17662522\n",
      "Iteration 31, loss = 0.17605581\n",
      "Iteration 32, loss = 0.17494481\n",
      "Iteration 33, loss = 0.17330677\n",
      "Iteration 34, loss = 0.17208335\n",
      "Iteration 35, loss = 0.17133322\n",
      "Iteration 36, loss = 0.17026176\n",
      "Iteration 37, loss = 0.16922555\n",
      "Iteration 38, loss = 0.16793017\n",
      "Iteration 39, loss = 0.16699644\n",
      "Iteration 40, loss = 0.16620161\n",
      "Iteration 41, loss = 0.16507933\n",
      "Iteration 42, loss = 0.16398691\n",
      "Iteration 43, loss = 0.16340316\n",
      "Iteration 44, loss = 0.16209634\n",
      "Iteration 45, loss = 0.16131745\n",
      "Iteration 46, loss = 0.16042486\n",
      "Iteration 47, loss = 0.16006364\n",
      "Iteration 48, loss = 0.15910324\n",
      "Iteration 49, loss = 0.15787013\n",
      "Iteration 50, loss = 0.15740347\n",
      "Iteration 51, loss = 0.15573712\n",
      "Iteration 52, loss = 0.15629157\n",
      "Iteration 53, loss = 0.15573892\n",
      "Iteration 54, loss = 0.15423300\n",
      "Iteration 55, loss = 0.15385835\n",
      "Iteration 56, loss = 0.15282304\n",
      "Iteration 57, loss = 0.15214752\n",
      "Iteration 58, loss = 0.15111576\n",
      "Iteration 59, loss = 0.15042776\n",
      "Iteration 60, loss = 0.15086580\n",
      "Iteration 61, loss = 0.15017044\n",
      "Iteration 62, loss = 0.14913506\n",
      "Iteration 63, loss = 0.14828311\n",
      "Iteration 64, loss = 0.14798376\n",
      "Iteration 65, loss = 0.14714739\n",
      "Iteration 66, loss = 0.14654122\n",
      "Iteration 67, loss = 0.14567642\n",
      "Iteration 68, loss = 0.14616111\n",
      "Iteration 69, loss = 0.14490758\n",
      "Iteration 70, loss = 0.14493092\n",
      "Iteration 71, loss = 0.14400285\n",
      "Iteration 72, loss = 0.14344339\n",
      "Iteration 73, loss = 0.14300339\n",
      "Iteration 74, loss = 0.14230412\n",
      "Iteration 75, loss = 0.14178429\n",
      "Iteration 76, loss = 0.14181041\n",
      "Iteration 77, loss = 0.14010065\n",
      "Iteration 78, loss = 0.14068377\n",
      "Iteration 79, loss = 0.13983560\n",
      "Iteration 80, loss = 0.13820897\n",
      "Iteration 81, loss = 0.13931201\n",
      "Iteration 82, loss = 0.13791604\n",
      "Iteration 83, loss = 0.13786936\n",
      "Iteration 84, loss = 0.13730106\n",
      "Iteration 85, loss = 0.13761510\n",
      "Iteration 86, loss = 0.13638749\n",
      "Iteration 87, loss = 0.13678883\n",
      "Iteration 88, loss = 0.13426224\n",
      "Iteration 89, loss = 0.13495286\n",
      "Iteration 90, loss = 0.13448123\n",
      "Iteration 91, loss = 0.13396599\n",
      "Iteration 92, loss = 0.13371898\n",
      "Iteration 93, loss = 0.13350449\n",
      "Iteration 94, loss = 0.13302505\n",
      "Iteration 95, loss = 0.13265717\n",
      "Iteration 96, loss = 0.13216733\n",
      "Iteration 97, loss = 0.13128727\n",
      "Iteration 98, loss = 0.13202282\n",
      "Iteration 99, loss = 0.13167020\n",
      "Iteration 100, loss = 0.13031634\n",
      "Iteration 101, loss = 0.13007068\n",
      "Iteration 102, loss = 0.13027515\n",
      "Iteration 103, loss = 0.12921807\n",
      "Iteration 104, loss = 0.12881186\n",
      "Iteration 105, loss = 0.12869090\n",
      "Iteration 106, loss = 0.12837784\n",
      "Iteration 107, loss = 0.12817538\n",
      "Iteration 108, loss = 0.12727526\n",
      "Iteration 109, loss = 0.12710567\n",
      "Iteration 110, loss = 0.12682331\n",
      "Iteration 111, loss = 0.12625518\n",
      "Iteration 112, loss = 0.12584444\n",
      "Iteration 113, loss = 0.12575631\n",
      "Iteration 114, loss = 0.12575010\n",
      "Iteration 115, loss = 0.12513508\n",
      "Iteration 116, loss = 0.12459659\n",
      "Iteration 117, loss = 0.12441888\n",
      "Iteration 118, loss = 0.12447088\n",
      "Iteration 119, loss = 0.12358915\n",
      "Iteration 120, loss = 0.12313975\n",
      "Iteration 121, loss = 0.12298528\n",
      "Iteration 122, loss = 0.12231992\n",
      "Iteration 123, loss = 0.12262961\n",
      "Iteration 124, loss = 0.12243681\n",
      "Iteration 125, loss = 0.12169549\n",
      "Iteration 126, loss = 0.12104873\n",
      "Iteration 127, loss = 0.12146266\n",
      "Iteration 128, loss = 0.12060317\n",
      "Iteration 129, loss = 0.12031190\n",
      "Iteration 130, loss = 0.11979636\n",
      "Iteration 131, loss = 0.11969357\n",
      "Iteration 132, loss = 0.11908109\n",
      "Iteration 133, loss = 0.11921743\n",
      "Iteration 134, loss = 0.11872671\n",
      "Iteration 135, loss = 0.11829082\n",
      "Iteration 136, loss = 0.11858937\n",
      "Iteration 137, loss = 0.11829532\n",
      "Iteration 138, loss = 0.11786244\n",
      "Iteration 139, loss = 0.11788237\n",
      "Iteration 140, loss = 0.11754680\n",
      "Iteration 141, loss = 0.11664906\n",
      "Iteration 142, loss = 0.11635225\n",
      "Iteration 143, loss = 0.11703176\n",
      "Iteration 144, loss = 0.11607526\n",
      "Iteration 145, loss = 0.11578329\n",
      "Iteration 146, loss = 0.11566409\n",
      "Iteration 147, loss = 0.11580510\n",
      "Iteration 148, loss = 0.11522449\n",
      "Iteration 149, loss = 0.11446120\n",
      "Iteration 150, loss = 0.11469477\n",
      "Iteration 151, loss = 0.11392412\n",
      "Iteration 152, loss = 0.11454971\n",
      "Iteration 153, loss = 0.11359086\n",
      "Iteration 154, loss = 0.11375698\n",
      "Iteration 155, loss = 0.11339205\n",
      "Iteration 156, loss = 0.11248885\n",
      "Iteration 157, loss = 0.11261445\n",
      "Iteration 158, loss = 0.11208817\n",
      "Iteration 159, loss = 0.11220921\n",
      "Iteration 160, loss = 0.11236923\n",
      "Iteration 161, loss = 0.11211121\n",
      "Iteration 162, loss = 0.11114663\n",
      "Iteration 163, loss = 0.11100867\n",
      "Iteration 164, loss = 0.11072559\n",
      "Iteration 165, loss = 0.11083696\n",
      "Iteration 166, loss = 0.11070635\n",
      "Iteration 167, loss = 0.11120741\n",
      "Iteration 168, loss = 0.10983632\n",
      "Iteration 169, loss = 0.11013934\n",
      "Iteration 170, loss = 0.10961214\n",
      "Iteration 171, loss = 0.10958191\n",
      "Iteration 172, loss = 0.10913373\n",
      "Iteration 173, loss = 0.10909962\n",
      "Iteration 174, loss = 0.10918775\n",
      "Iteration 175, loss = 0.10831829\n",
      "Iteration 176, loss = 0.10786439\n",
      "Iteration 177, loss = 0.10820841\n",
      "Iteration 178, loss = 0.10812167\n",
      "Iteration 179, loss = 0.10753672\n",
      "Iteration 180, loss = 0.10744516\n",
      "Iteration 181, loss = 0.10730606\n",
      "Iteration 182, loss = 0.10690609\n",
      "Iteration 183, loss = 0.10700542\n",
      "Iteration 184, loss = 0.10755359\n",
      "Iteration 185, loss = 0.10564102\n",
      "Iteration 186, loss = 0.10580158\n",
      "Iteration 187, loss = 0.10656424\n",
      "Iteration 188, loss = 0.10640624\n",
      "Iteration 189, loss = 0.10566848\n",
      "Iteration 190, loss = 0.10540438\n",
      "Iteration 191, loss = 0.10496186\n",
      "Iteration 192, loss = 0.10462541\n",
      "Iteration 193, loss = 0.10457527\n",
      "Iteration 194, loss = 0.10421511\n",
      "Iteration 195, loss = 0.10429713\n",
      "Iteration 196, loss = 0.10369028\n",
      "Iteration 197, loss = 0.10395014\n",
      "Iteration 198, loss = 0.10333266\n",
      "Iteration 199, loss = 0.10366406\n",
      "Iteration 200, loss = 0.10350490\n",
      "Iteration 201, loss = 0.10245464\n",
      "Iteration 202, loss = 0.10319695\n",
      "Iteration 203, loss = 0.10270501\n",
      "Iteration 204, loss = 0.10274556\n",
      "Iteration 205, loss = 0.10266762\n",
      "Iteration 206, loss = 0.10260075\n",
      "Iteration 207, loss = 0.10206283\n",
      "Iteration 208, loss = 0.10089301\n",
      "Iteration 209, loss = 0.10212206\n",
      "Iteration 210, loss = 0.10155691\n",
      "Iteration 211, loss = 0.10077273\n",
      "Iteration 212, loss = 0.10147676\n",
      "Iteration 213, loss = 0.10133378\n",
      "Iteration 214, loss = 0.10125540\n",
      "Iteration 215, loss = 0.10054756\n",
      "Iteration 216, loss = 0.10029184\n",
      "Iteration 217, loss = 0.10034929\n",
      "Iteration 218, loss = 0.10060807\n",
      "Iteration 219, loss = 0.09923093\n",
      "Iteration 220, loss = 0.09923722\n",
      "Iteration 221, loss = 0.09931371\n",
      "Iteration 222, loss = 0.09957860\n",
      "Iteration 223, loss = 0.09898446\n",
      "Iteration 224, loss = 0.09954206\n",
      "Iteration 225, loss = 0.09836292\n",
      "Iteration 226, loss = 0.09895889\n",
      "Iteration 227, loss = 0.09841669\n",
      "Iteration 228, loss = 0.09841104\n",
      "Iteration 229, loss = 0.09786834\n",
      "Iteration 230, loss = 0.09803678\n",
      "Iteration 231, loss = 0.09754173\n",
      "Iteration 232, loss = 0.09742257\n",
      "Iteration 233, loss = 0.09681932\n",
      "Iteration 234, loss = 0.09715064\n",
      "Iteration 235, loss = 0.09695428\n",
      "Iteration 236, loss = 0.09697441\n",
      "Iteration 237, loss = 0.09671778\n",
      "Iteration 238, loss = 0.09662574\n",
      "Iteration 239, loss = 0.09643279\n",
      "Iteration 240, loss = 0.09590347\n",
      "Iteration 241, loss = 0.09636703\n",
      "Iteration 242, loss = 0.09614335\n",
      "Iteration 243, loss = 0.09549787\n",
      "Iteration 244, loss = 0.09542520\n",
      "Iteration 245, loss = 0.09606775\n",
      "Iteration 246, loss = 0.09502440\n",
      "Iteration 247, loss = 0.09529020\n",
      "Iteration 248, loss = 0.09515029\n",
      "Iteration 249, loss = 0.09468494\n",
      "Iteration 250, loss = 0.09474059\n",
      "Iteration 251, loss = 0.09482948\n",
      "Iteration 252, loss = 0.09369512\n"
     ]
    },
    {
     "name": "stdout",
     "output_type": "stream",
     "text": [
      "Iteration 253, loss = 0.09433164\n",
      "Iteration 254, loss = 0.09366889\n",
      "Iteration 255, loss = 0.09407784\n",
      "Iteration 256, loss = 0.09397520\n",
      "Iteration 257, loss = 0.09368536\n",
      "Iteration 258, loss = 0.09406125\n",
      "Iteration 259, loss = 0.09297593\n",
      "Iteration 260, loss = 0.09441824\n",
      "Iteration 261, loss = 0.09287785\n",
      "Iteration 262, loss = 0.09268794\n",
      "Iteration 263, loss = 0.09335095\n",
      "Iteration 264, loss = 0.09322464\n",
      "Iteration 265, loss = 0.09193258\n",
      "Iteration 266, loss = 0.09214661\n",
      "Iteration 267, loss = 0.09168530\n",
      "Iteration 268, loss = 0.09181322\n",
      "Iteration 269, loss = 0.09206695\n",
      "Iteration 270, loss = 0.09183703\n",
      "Iteration 271, loss = 0.09180442\n",
      "Iteration 272, loss = 0.09117075\n",
      "Iteration 273, loss = 0.09120287\n",
      "Iteration 274, loss = 0.09234599\n",
      "Iteration 275, loss = 0.09117679\n",
      "Iteration 276, loss = 0.09064749\n",
      "Iteration 277, loss = 0.09027834\n",
      "Iteration 278, loss = 0.09090374\n",
      "Iteration 279, loss = 0.09123630\n",
      "Iteration 280, loss = 0.09052330\n",
      "Iteration 281, loss = 0.09044601\n",
      "Iteration 282, loss = 0.08941858\n",
      "Iteration 283, loss = 0.08972655\n",
      "Iteration 284, loss = 0.09033877\n",
      "Iteration 285, loss = 0.09089883\n",
      "Iteration 286, loss = 0.08946196\n",
      "Iteration 287, loss = 0.08947617\n",
      "Iteration 288, loss = 0.08933104\n",
      "Iteration 289, loss = 0.08885390\n",
      "Iteration 290, loss = 0.08931882\n",
      "Iteration 291, loss = 0.08932724\n",
      "Iteration 292, loss = 0.08885390\n",
      "Iteration 293, loss = 0.08922335\n",
      "Iteration 294, loss = 0.08865382\n",
      "Iteration 295, loss = 0.08893298\n",
      "Iteration 296, loss = 0.08858611\n",
      "Iteration 297, loss = 0.08846918\n",
      "Iteration 298, loss = 0.08765072\n",
      "Iteration 299, loss = 0.08874786\n",
      "Iteration 300, loss = 0.08753590\n",
      "Iteration 301, loss = 0.08799540\n",
      "Iteration 302, loss = 0.08768754\n",
      "Iteration 303, loss = 0.08770606\n",
      "Iteration 304, loss = 0.08765473\n",
      "Iteration 305, loss = 0.08840968\n",
      "Iteration 306, loss = 0.08704173\n",
      "Iteration 307, loss = 0.08643742\n",
      "Iteration 308, loss = 0.08714263\n",
      "Iteration 309, loss = 0.08688354\n",
      "Iteration 310, loss = 0.08696120\n",
      "Iteration 311, loss = 0.08703530\n",
      "Iteration 312, loss = 0.08642538\n",
      "Iteration 313, loss = 0.08725879\n",
      "Iteration 314, loss = 0.08679225\n",
      "Iteration 315, loss = 0.08643380\n",
      "Iteration 316, loss = 0.08627377\n",
      "Iteration 317, loss = 0.08534546\n",
      "Iteration 318, loss = 0.08638587\n",
      "Iteration 319, loss = 0.08538380\n",
      "Iteration 320, loss = 0.08644291\n",
      "Iteration 321, loss = 0.08556893\n",
      "Iteration 322, loss = 0.08520523\n",
      "Iteration 323, loss = 0.08509038\n",
      "Iteration 324, loss = 0.08500217\n",
      "Iteration 325, loss = 0.08455296\n",
      "Iteration 326, loss = 0.08509039\n",
      "Iteration 327, loss = 0.08601177\n",
      "Iteration 328, loss = 0.08461322\n",
      "Iteration 329, loss = 0.08499988\n",
      "Iteration 330, loss = 0.08483360\n",
      "Iteration 331, loss = 0.08474435\n",
      "Iteration 332, loss = 0.08505573\n",
      "Iteration 333, loss = 0.08359723\n",
      "Iteration 334, loss = 0.08472677\n",
      "Iteration 335, loss = 0.08307028\n",
      "Iteration 336, loss = 0.08516479\n",
      "Iteration 337, loss = 0.08405141\n",
      "Iteration 338, loss = 0.08409253\n",
      "Iteration 339, loss = 0.08342876\n",
      "Iteration 340, loss = 0.08429157\n",
      "Iteration 341, loss = 0.08337119\n",
      "Iteration 342, loss = 0.08305972\n",
      "Iteration 343, loss = 0.08382239\n",
      "Iteration 344, loss = 0.08347607\n",
      "Iteration 345, loss = 0.08289593\n",
      "Iteration 346, loss = 0.08375063\n",
      "Iteration 347, loss = 0.08301270\n",
      "Iteration 348, loss = 0.08313307\n",
      "Iteration 349, loss = 0.08280783\n",
      "Iteration 350, loss = 0.08255471\n",
      "Iteration 351, loss = 0.08179869\n",
      "Iteration 352, loss = 0.08280217\n",
      "Iteration 353, loss = 0.08181004\n",
      "Iteration 354, loss = 0.08298248\n",
      "Iteration 355, loss = 0.08277972\n",
      "Iteration 356, loss = 0.08203966\n",
      "Iteration 357, loss = 0.08149180\n",
      "Iteration 358, loss = 0.08209631\n",
      "Iteration 359, loss = 0.08146110\n",
      "Iteration 360, loss = 0.08192897\n",
      "Iteration 361, loss = 0.08223899\n",
      "Iteration 362, loss = 0.08162114\n",
      "Iteration 363, loss = 0.08066044\n",
      "Iteration 364, loss = 0.08153214\n",
      "Iteration 365, loss = 0.08118516\n",
      "Iteration 366, loss = 0.08078236\n",
      "Iteration 367, loss = 0.08121746\n",
      "Iteration 368, loss = 0.08061412\n",
      "Iteration 369, loss = 0.08057142\n",
      "Iteration 370, loss = 0.08087726\n",
      "Iteration 371, loss = 0.08087174\n",
      "Iteration 372, loss = 0.08061432\n",
      "Iteration 373, loss = 0.08133174\n",
      "Iteration 374, loss = 0.08051565\n",
      "Training loss did not improve more than tol=0.000100 for 10 consecutive epochs. Stopping.\n"
     ]
    },
    {
     "data": {
      "text/html": [
       "<style>#sk-container-id-1 {color: black;}#sk-container-id-1 pre{padding: 0;}#sk-container-id-1 div.sk-toggleable {background-color: white;}#sk-container-id-1 label.sk-toggleable__label {cursor: pointer;display: block;width: 100%;margin-bottom: 0;padding: 0.3em;box-sizing: border-box;text-align: center;}#sk-container-id-1 label.sk-toggleable__label-arrow:before {content: \"▸\";float: left;margin-right: 0.25em;color: #696969;}#sk-container-id-1 label.sk-toggleable__label-arrow:hover:before {color: black;}#sk-container-id-1 div.sk-estimator:hover label.sk-toggleable__label-arrow:before {color: black;}#sk-container-id-1 div.sk-toggleable__content {max-height: 0;max-width: 0;overflow: hidden;text-align: left;background-color: #f0f8ff;}#sk-container-id-1 div.sk-toggleable__content pre {margin: 0.2em;color: black;border-radius: 0.25em;background-color: #f0f8ff;}#sk-container-id-1 input.sk-toggleable__control:checked~div.sk-toggleable__content {max-height: 200px;max-width: 100%;overflow: auto;}#sk-container-id-1 input.sk-toggleable__control:checked~label.sk-toggleable__label-arrow:before {content: \"▾\";}#sk-container-id-1 div.sk-estimator input.sk-toggleable__control:checked~label.sk-toggleable__label {background-color: #d4ebff;}#sk-container-id-1 div.sk-label input.sk-toggleable__control:checked~label.sk-toggleable__label {background-color: #d4ebff;}#sk-container-id-1 input.sk-hidden--visually {border: 0;clip: rect(1px 1px 1px 1px);clip: rect(1px, 1px, 1px, 1px);height: 1px;margin: -1px;overflow: hidden;padding: 0;position: absolute;width: 1px;}#sk-container-id-1 div.sk-estimator {font-family: monospace;background-color: #f0f8ff;border: 1px dotted black;border-radius: 0.25em;box-sizing: border-box;margin-bottom: 0.5em;}#sk-container-id-1 div.sk-estimator:hover {background-color: #d4ebff;}#sk-container-id-1 div.sk-parallel-item::after {content: \"\";width: 100%;border-bottom: 1px solid gray;flex-grow: 1;}#sk-container-id-1 div.sk-label:hover label.sk-toggleable__label {background-color: #d4ebff;}#sk-container-id-1 div.sk-serial::before {content: \"\";position: absolute;border-left: 1px solid gray;box-sizing: border-box;top: 0;bottom: 0;left: 50%;z-index: 0;}#sk-container-id-1 div.sk-serial {display: flex;flex-direction: column;align-items: center;background-color: white;padding-right: 0.2em;padding-left: 0.2em;position: relative;}#sk-container-id-1 div.sk-item {position: relative;z-index: 1;}#sk-container-id-1 div.sk-parallel {display: flex;align-items: stretch;justify-content: center;background-color: white;position: relative;}#sk-container-id-1 div.sk-item::before, #sk-container-id-1 div.sk-parallel-item::before {content: \"\";position: absolute;border-left: 1px solid gray;box-sizing: border-box;top: 0;bottom: 0;left: 50%;z-index: -1;}#sk-container-id-1 div.sk-parallel-item {display: flex;flex-direction: column;z-index: 1;position: relative;background-color: white;}#sk-container-id-1 div.sk-parallel-item:first-child::after {align-self: flex-end;width: 50%;}#sk-container-id-1 div.sk-parallel-item:last-child::after {align-self: flex-start;width: 50%;}#sk-container-id-1 div.sk-parallel-item:only-child::after {width: 0;}#sk-container-id-1 div.sk-dashed-wrapped {border: 1px dashed gray;margin: 0 0.4em 0.5em 0.4em;box-sizing: border-box;padding-bottom: 0.4em;background-color: white;}#sk-container-id-1 div.sk-label label {font-family: monospace;font-weight: bold;display: inline-block;line-height: 1.2em;}#sk-container-id-1 div.sk-label-container {text-align: center;}#sk-container-id-1 div.sk-container {/* jupyter's `normalize.less` sets `[hidden] { display: none; }` but bootstrap.min.css set `[hidden] { display: none !important; }` so we also need the `!important` here to be able to override the default hidden behavior on the sphinx rendered scikit-learn.org. See: https://github.com/scikit-learn/scikit-learn/issues/21755 */display: inline-block !important;position: relative;}#sk-container-id-1 div.sk-text-repr-fallback {display: none;}</style><div id=\"sk-container-id-1\" class=\"sk-top-container\"><div class=\"sk-text-repr-fallback\"><pre>MLPClassifier(max_iter=1000, verbose=True)</pre><b>In a Jupyter environment, please rerun this cell to show the HTML representation or trust the notebook. <br />On GitHub, the HTML representation is unable to render, please try loading this page with nbviewer.org.</b></div><div class=\"sk-container\" hidden><div class=\"sk-item\"><div class=\"sk-estimator sk-toggleable\"><input class=\"sk-toggleable__control sk-hidden--visually\" id=\"sk-estimator-id-1\" type=\"checkbox\" checked><label for=\"sk-estimator-id-1\" class=\"sk-toggleable__label sk-toggleable__label-arrow\">MLPClassifier</label><div class=\"sk-toggleable__content\"><pre>MLPClassifier(max_iter=1000, verbose=True)</pre></div></div></div></div></div>"
      ],
      "text/plain": [
       "MLPClassifier(max_iter=1000, verbose=True)"
      ]
     },
     "execution_count": 17,
     "metadata": {},
     "output_type": "execute_result"
    }
   ],
   "source": [
    "from sklearn.neural_network import MLPClassifier\n",
    "from sklearn.metrics import accuracy_score, precision_score, recall_score, f1_score, classification_report\n",
    "clf = MLPClassifier(hidden_layer_sizes=(100,),activation='relu', solver='adam', max_iter=1000, verbose=True)\n",
    "clf.fit(X_train, y_train)  # relu"
   ]
  },
  {
   "cell_type": "code",
   "execution_count": 18,
   "metadata": {
    "colab": {
     "base_uri": "https://localhost:8080/"
    },
    "execution": {
     "iopub.execute_input": "2025-03-06T09:46:58.406603Z",
     "iopub.status.busy": "2025-03-06T09:46:58.406319Z",
     "iopub.status.idle": "2025-03-06T09:46:59.861258Z",
     "shell.execute_reply": "2025-03-06T09:46:59.860123Z",
     "shell.execute_reply.started": "2025-03-06T09:46:58.406577Z"
    },
    "id": "leC5_mz_lQ30",
    "outputId": "688421c8-b788-4a2c-9be1-57f0e0e25730"
   },
   "outputs": [
    {
     "name": "stdout",
     "output_type": "stream",
     "text": [
      "Accuracy: 0.9118104118104118\n",
      "Precision: 0.912063649980641\n",
      "Recall: 0.9118104118104118\n",
      "F1 score: 0.9118506914010398\n",
      "              precision    recall  f1-score   support\n",
      "\n",
      "           0       0.79      0.81      0.80      1248\n",
      "           1       0.78      0.81      0.80       521\n",
      "           2       0.85      0.82      0.84      2456\n",
      "           3       0.93      0.93      0.93       785\n",
      "           4       0.95      0.95      0.95      2535\n",
      "           5       0.98      0.97      0.98       406\n",
      "           6       0.98      0.98      0.98      2946\n",
      "           7       0.87      0.88      0.88       993\n",
      "           8       0.88      0.91      0.89      2464\n",
      "           9       0.99      0.98      0.98      2722\n",
      "          10       0.90      0.88      0.89      3516\n",
      "\n",
      "    accuracy                           0.91     20592\n",
      "   macro avg       0.90      0.90      0.90     20592\n",
      "weighted avg       0.91      0.91      0.91     20592\n",
      "\n"
     ]
    },
    {
     "data": {
      "image/png": "[encoded data removed]",
      "text/plain": [
       "<Figure size 720x576 with 2 Axes>"
      ]
     },
     "metadata": {
      "needs_background": "light"
     },
     "output_type": "display_data"
    },
    {
     "name": "stdout",
     "output_type": "stream",
     "text": [
      "Confusion Matrix:\n",
      "[[1014    4   55   19    6    0    0    5    8    1  136]\n",
      " [   3  423    2    0   23    4    0   50    0    0   16]\n",
      " [  50    4 2019   20    8    0   24    5  198    3  125]\n",
      " [  16    1   21  731    2    0    0    3    6    3    2]\n",
      " [  10   24    8    3 2417    1    4    4   23    8   33]\n",
      " [   0    6    0    0    0  395    0    3    1    0    1]\n",
      " [   2    0   19    1    0    0 2888    2   27    2    5]\n",
      " [   0   64   12    2    0    3    0  876   13    1   22]\n",
      " [   4    0  125   10   34    0   19   13 2242   12    5]\n",
      " [   6    0    8    2   27    0    2    2    7 2662    6]\n",
      " [ 173   13  109    1   34    1    1   40   27    8 3109]]\n"
     ]
    }
   ],
   "source": [
    "y_pred = clf.predict(X_test)\n",
    "print('Accuracy:', accuracy_score(y_test, y_pred))\n",
    "print('Precision:', precision_score(y_test, y_pred, average='weighted')) # Changed to 'weighted' average\n",
    "print('Recall:', recall_score(y_test, y_pred, average='weighted')) # Changed to 'weighted' average\n",
    "print('F1 score:', f1_score(y_test, y_pred, average='weighted')) # Changed to 'weighted' average\n",
    "print(classification_report(y_test, y_pred))\n",
    "\n",
    "from sklearn.metrics import confusion_matrix\n",
    "import matplotlib.pyplot as plt\n",
    "import seaborn as sns\n",
    "\n",
    "cm = confusion_matrix(y_test, y_pred)\n",
    "\n",
    "# Visualize the confusion matrix using seaborn and matplotlib\n",
    "plt.figure(figsize=(10, 8))\n",
    "sns.heatmap(cm, annot=True, fmt='d', cmap='Blues')\n",
    "plt.xlabel('Predicted Labels')\n",
    "plt.ylabel('True Labels')\n",
    "plt.title('Confusion Matrix')\n",
    "plt.show()\n",
    "\n",
    "# If you want to print the matrix as text:\n",
    "print(\"Confusion Matrix:\")\n",
    "print(cm)"
   ]
  },
  {
   "cell_type": "code",
   "execution_count": 19,
   "metadata": {},
   "outputs": [
    {
     "data": {
      "image/png": "[encoded data removed]",
      "text/plain": [
       "<Figure size 576x432 with 1 Axes>"
      ]
     },
     "metadata": {
      "needs_background": "light"
     },
     "output_type": "display_data"
    },
    {
     "name": "stdout",
     "output_type": "stream",
     "text": [
      "Iteration 1, loss = 0.08072174\n",
      "Training loss did not improve more than tol=0.000100 for 10 consecutive epochs. Stopping.\n",
      "Iteration 1, loss = 0.08031998\n",
      "Iteration 1, loss = 0.07983960\n",
      "Iteration 1, loss = 0.07999672\n",
      "Iteration 1, loss = 0.07939650\n",
      "Iteration 1, loss = 0.07973256\n",
      "Iteration 1, loss = 0.08016867\n",
      "Iteration 1, loss = 0.07922668\n",
      "Iteration 1, loss = 0.07938024\n",
      "Iteration 1, loss = 0.07993070\n",
      "Iteration 1, loss = 0.07908514\n",
      "Iteration 1, loss = 0.07949546\n",
      "Iteration 1, loss = 0.07931841\n",
      "Iteration 1, loss = 0.07898018\n",
      "Iteration 1, loss = 0.07904602\n",
      "Iteration 1, loss = 0.07930870\n",
      "Iteration 1, loss = 0.07886561\n",
      "Iteration 1, loss = 0.07892929\n",
      "Iteration 1, loss = 0.07752150\n",
      "Iteration 1, loss = 0.07887684\n",
      "Iteration 1, loss = 0.07910373\n",
      "Iteration 1, loss = 0.07968822\n",
      "Iteration 1, loss = 0.07821537\n",
      "Iteration 1, loss = 0.07901851\n",
      "Iteration 1, loss = 0.07851282\n",
      "Iteration 1, loss = 0.07705144\n",
      "Iteration 1, loss = 0.07794726\n",
      "Iteration 1, loss = 0.07842946\n",
      "Iteration 1, loss = 0.07858067\n",
      "Iteration 1, loss = 0.07751971\n",
      "Iteration 1, loss = 0.07842404\n",
      "Iteration 1, loss = 0.07784994\n",
      "Iteration 1, loss = 0.07727982\n",
      "Iteration 1, loss = 0.07748710\n",
      "Iteration 1, loss = 0.07797574\n",
      "Iteration 1, loss = 0.07696394\n",
      "Iteration 1, loss = 0.07837356\n",
      "Training loss did not improve more than tol=0.000100 for 10 consecutive epochs. Stopping.\n",
      "Iteration 1, loss = 0.07679889\n",
      "Iteration 1, loss = 0.07744220\n",
      "Iteration 1, loss = 0.07714460\n",
      "Iteration 1, loss = 0.07694519\n",
      "Iteration 1, loss = 0.07721232\n",
      "Iteration 1, loss = 0.07682871\n",
      "Iteration 1, loss = 0.07649220\n",
      "Iteration 1, loss = 0.07560749\n",
      "Iteration 1, loss = 0.07630299\n",
      "Iteration 1, loss = 0.07746301\n",
      "Iteration 1, loss = 0.07692657\n",
      "Iteration 1, loss = 0.07697253\n",
      "Iteration 1, loss = 0.07664951\n",
      "Iteration 1, loss = 0.07645097\n",
      "Iteration 1, loss = 0.07690111\n",
      "Iteration 1, loss = 0.07560611\n",
      "Iteration 1, loss = 0.07690981\n",
      "Iteration 1, loss = 0.07644136\n",
      "Iteration 1, loss = 0.07662056\n",
      "Training loss did not improve more than tol=0.000100 for 10 consecutive epochs. Stopping.\n",
      "Iteration 1, loss = 0.07528181\n",
      "Iteration 1, loss = 0.07661580\n",
      "Iteration 1, loss = 0.07489513\n",
      "Iteration 1, loss = 0.07618567\n",
      "Iteration 1, loss = 0.07605635\n",
      "Iteration 1, loss = 0.07548736\n",
      "Iteration 1, loss = 0.07499768\n",
      "Iteration 1, loss = 0.07547068\n",
      "Iteration 1, loss = 0.07523814\n",
      "Iteration 1, loss = 0.07510833\n",
      "Iteration 1, loss = 0.07540611\n",
      "Iteration 1, loss = 0.07393026\n",
      "Iteration 1, loss = 0.07462379\n",
      "Iteration 1, loss = 0.07533983\n",
      "Iteration 1, loss = 0.07583503\n",
      "Iteration 1, loss = 0.07446739\n",
      "Iteration 1, loss = 0.07432831\n",
      "Iteration 1, loss = 0.07448175\n",
      "Iteration 1, loss = 0.07411447\n",
      "Iteration 1, loss = 0.07488400\n",
      "Iteration 1, loss = 0.07407506\n",
      "Iteration 1, loss = 0.07422031\n",
      "Iteration 1, loss = 0.07384150\n",
      "Training loss did not improve more than tol=0.000100 for 10 consecutive epochs. Stopping.\n",
      "Iteration 1, loss = 0.07434164\n",
      "Training loss did not improve more than tol=0.000100 for 10 consecutive epochs. Stopping.\n",
      "Iteration 1, loss = 0.07427209\n",
      "Training loss did not improve more than tol=0.000100 for 10 consecutive epochs. Stopping.\n",
      "Iteration 1, loss = 0.07417908\n",
      "Training loss did not improve more than tol=0.000100 for 10 consecutive epochs. Stopping.\n",
      "Iteration 1, loss = 0.07502888\n",
      "Training loss did not improve more than tol=0.000100 for 10 consecutive epochs. Stopping.\n",
      "Iteration 1, loss = 0.07399013\n",
      "Training loss did not improve more than tol=0.000100 for 10 consecutive epochs. Stopping.\n",
      "Iteration 1, loss = 0.07344895\n",
      "Iteration 1, loss = 0.07410802\n",
      "Iteration 1, loss = 0.07344686\n",
      "Iteration 1, loss = 0.07344842\n",
      "Iteration 1, loss = 0.07375903\n",
      "Iteration 1, loss = 0.07271058\n",
      "Iteration 1, loss = 0.07403005\n",
      "Iteration 1, loss = 0.07369259\n",
      "Iteration 1, loss = 0.07358425\n",
      "Iteration 1, loss = 0.07282096\n",
      "Iteration 1, loss = 0.07231030\n",
      "Iteration 1, loss = 0.07294408\n",
      "Iteration 1, loss = 0.07281213\n",
      "Iteration 1, loss = 0.07360648\n",
      "Iteration 1, loss = 0.07289702\n",
      "Iteration 1, loss = 0.07264790\n"
     ]
    },
    {
     "data": {
      "image/png": "[encoded data removed]",
      "text/plain": [
       "<Figure size 576x432 with 1 Axes>"
      ]
     },
     "metadata": {
      "needs_background": "light"
     },
     "output_type": "display_data"
    }
   ],
   "source": [
    "import matplotlib.pyplot as plt\n",
    "from sklearn.neural_network import MLPClassifier\n",
    "from sklearn.metrics import accuracy_score\n",
    "\n",
    "# Plot the loss curve\n",
    "plt.figure(figsize=(8, 6))\n",
    "plt.plot(clf.loss_curve_, label='Training Loss', color='blue')\n",
    "plt.title('Model Training Loss Over Iterations')\n",
    "plt.xlabel('Iterations')\n",
    "plt.ylabel('Loss')\n",
    "plt.grid(True)\n",
    "plt.legend()\n",
    "plt.show()\n",
    "\n",
    "# Tracking accuracy over iterations (alternative method)\n",
    "train_scores = []\n",
    "test_scores = []\n",
    "\n",
    "for i in range(1, clf.max_iter + 1, 10):  # Check accuracy every 10 iterations\n",
    "    clf.partial_fit(X_train, y_train, classes=np.unique(y_train))\n",
    "    train_scores.append(accuracy_score(y_train, clf.predict(X_train)))\n",
    "    test_scores.append(accuracy_score(y_test, clf.predict(X_test)))\n",
    "\n",
    "# Plot accuracy over iterations\n",
    "plt.figure(figsize=(8, 6))\n",
    "plt.plot(range(1, clf.max_iter + 1, 10), train_scores, label='Training Accuracy', color='green')\n",
    "plt.plot(range(1, clf.max_iter + 1, 10), test_scores, label='Test Accuracy', color='red')\n",
    "plt.title('Model Accuracy Over Iterations')\n",
    "plt.xlabel('Iterations')\n",
    "plt.ylabel('Accuracy')\n",
    "plt.grid(True)\n",
    "plt.legend()\n",
    "plt.show()"
   ]
  },
  {
   "cell_type": "code",
   "execution_count": null,
   "metadata": {},
   "outputs": [],
   "source": []
  }
 ],
 "metadata": {
  "colab": {
   "authorship_tag": "ABX9TyNo+sm5n2sr/eViAjk4h2B7",
   "include_colab_link": true,
   "provenance": []
  },
  "kaggle": {
   "accelerator": "none",
   "dataSources": [
    {
     "datasetId": 6802262,
     "sourceId": 10938282,
     "sourceType": "datasetVersion"
    }
   ],
   "dockerImageVersionId": 30918,
   "isGpuEnabled": false,
   "isInternetEnabled": false,
   "language": "python",
   "sourceType": "notebook"
  },
  "kernelspec": {
   "display_name": "Python 3 (ipykernel)",
   "language": "python",
   "name": "python3"
  },
  "language_info": {
   "codemirror_mode": {
    "name": "ipython",
    "version": 3
   },
   "file_extension": ".py",
   "mimetype": "text/x-python",
   "name": "python",
   "nbconvert_exporter": "python",
   "pygments_lexer": "ipython3",
   "version": "3.9.12"
  }
 },
 "nbformat": 4,
 "nbformat_minor": 4
}
