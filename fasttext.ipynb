{
 "cells": [
  {
   "cell_type": "markdown",
   "metadata": {
    "colab_type": "text",
    "id": "view-in-github"
   },
   "source": [
    "<a href=\"https://colab.research.google.com/github/demekeendalie/Fine-tuning-bert-model-for-amharic-news-classification/blob/main/fastText_classifier.ipynb\" target=\"_parent\"><img src=\"https://colab.research.google.com/assets/colab-badge.svg\" alt=\"Open In Colab\"/></a>"
   ]
  },
  {
   "cell_type": "code",
   "execution_count": 1,
   "metadata": {
    "execution": {
     "iopub.execute_input": "2025-03-06T19:21:54.192613Z",
     "iopub.status.busy": "2025-03-06T19:21:54.192005Z",
     "iopub.status.idle": "2025-03-06T19:21:54.197971Z",
     "shell.execute_reply": "2025-03-06T19:21:54.196605Z",
     "shell.execute_reply.started": "2025-03-06T19:21:54.192564Z"
    },
    "id": "342ICL9sDKR3",
    "scrolled": true
   },
   "outputs": [],
   "source": [
    "import pandas as pd\n",
    "import numpy as np"
   ]
  },
  {
   "cell_type": "code",
   "execution_count": 2,
   "metadata": {
    "execution": {
     "execution_failed": "2025-03-07T03:46:37.291Z",
     "iopub.execute_input": "2025-03-06T19:21:54.200461Z",
     "iopub.status.busy": "2025-03-06T19:21:54.199981Z"
    },
    "id": "_jGASGUyEDNz"
   },
   "outputs": [
    {
     "name": "stdout",
     "output_type": "stream",
     "text": [
      "C:/Users/E-MaxPCShop/Desktop/Uzbek_News_Dataset_small\\Avto\n",
      "C:/Users/E-MaxPCShop/Desktop/Uzbek_News_Dataset_small\\Ayollar\n",
      "C:/Users/E-MaxPCShop/Desktop/Uzbek_News_Dataset_small\\Iqtisodiyot\n",
      "C:/Users/E-MaxPCShop/Desktop/Uzbek_News_Dataset_small\\Jinoyat\n",
      "C:/Users/E-MaxPCShop/Desktop/Uzbek_News_Dataset_small\\Madaniyat\n",
      "C:/Users/E-MaxPCShop/Desktop/Uzbek_News_Dataset_small\\Pazandachilik\n",
      "C:/Users/E-MaxPCShop/Desktop/Uzbek_News_Dataset_small\\Qonunchilik\n",
      "C:/Users/E-MaxPCShop/Desktop/Uzbek_News_Dataset_small\\Salomatlik\n",
      "C:/Users/E-MaxPCShop/Desktop/Uzbek_News_Dataset_small\\Siyosat\n",
      "C:/Users/E-MaxPCShop/Desktop/Uzbek_News_Dataset_small\\Sport\n",
      "C:/Users/E-MaxPCShop/Desktop/Uzbek_News_Dataset_small\\Texnologiya\n"
     ]
    }
   ],
   "source": [
    "import os\n",
    "dataset_path = 'C:/Users/E-MaxPCShop/Desktop/Uzbek_News_Dataset_small'\n",
    "\n",
    "data = []\n",
    "for category in os.listdir(dataset_path):\n",
    "    category_path = os.path.join(dataset_path, category)\n",
    "    print(category_path)\n",
    "    # Check if it's a directory (category folder)\n",
    "    if os.path.isdir(category_path):\n",
    "        for filename in os.listdir(category_path):\n",
    "            if filename.endswith('.txt'):\n",
    "                file_path = os.path.join(category_path, filename)\n",
    "                try:\n",
    "                    with open(file_path, 'r', encoding='utf-8') as file:\n",
    "                        article_text = file.read().strip()  # Read and remove leading/trailing spaces\n",
    "                        data.append({'articles': article_text, 'category': category})\n",
    "                except Exception as e:\n",
    "                    print(f\"Error reading file {file_path}: {e}\")\n",
    "\n",
    "dataframe = pd.DataFrame(data)"
   ]
  },
  {
   "cell_type": "code",
   "execution_count": 3,
   "metadata": {
    "execution": {
     "execution_failed": "2025-03-07T03:46:37.298Z"
    },
    "id": "JLbBP9TqEQET"
   },
   "outputs": [
    {
     "name": "stdout",
     "output_type": "stream",
     "text": [
      "                                                 articles     category\n",
      "0       Tesla barcha elektromobillarining narxini oshi...         Avto\n",
      "1       UzAuto Motors — o‘rindiq isitish modeli va mag...         Avto\n",
      "2       Lego’ning 358 mingdan ortiq detali yordamida t...         Avto\n",
      "3       Namanganda “Moskvich” ariqqa ag‘darilib ketish...         Avto\n",
      "4       Qo‘qonda YPX xodimini mashina ustida sudrab ke...         Avto\n",
      "...                                                   ...          ...\n",
      "102955  Sony 7 mm qalinlikdagi yangi Xperia T3 smartfo...  Texnologiya\n",
      "102956  Acer kompaniyasining yangi Iconia A1-830 plans...  Texnologiya\n",
      "102957  LG G3 ommaboplikda Samsung Galaxy S5’ni ortda ...  Texnologiya\n",
      "102958  Vertu kompaniyasi 8 ming yevrolik titan smartf...  Texnologiya\n",
      "102959  Apple yangi iOS 8 operatsion tizimini taqdim e...  Texnologiya\n",
      "\n",
      "[102960 rows x 2 columns]\n",
      "Texnologiya      17541\n",
      "Qonunchilik      14779\n",
      "Sport            13403\n",
      "Madaniyat        12798\n",
      "Siyosat          12247\n",
      "Iqtisodiyot      12165\n",
      "Avto              6044\n",
      "Salomatlik        5086\n",
      "Jinoyat           4200\n",
      "Ayollar           2657\n",
      "Pazandachilik     2040\n",
      "Name: category, dtype: int64\n"
     ]
    }
   ],
   "source": [
    "print(dataframe)\n",
    "category_counts = dataframe['category'].value_counts()\n",
    "print(category_counts)\n"
   ]
  },
  {
   "cell_type": "code",
   "execution_count": 4,
   "metadata": {
    "colab": {
     "base_uri": "https://localhost:8080/"
    },
    "execution": {
     "execution_failed": "2025-03-07T03:46:37.300Z"
    },
    "id": "HAVJsDoEEYJQ",
    "outputId": "4e0a0c4a-4892-41f5-8254-55ca9c0868d0"
   },
   "outputs": [
    {
     "name": "stdout",
     "output_type": "stream",
     "text": [
      "                                                 articles     category  labels\n",
      "0       Tesla barcha elektromobillarining narxini oshi...         Avto       0\n",
      "1       UzAuto Motors — o‘rindiq isitish modeli va mag...         Avto       0\n",
      "2       Lego’ning 358 mingdan ortiq detali yordamida t...         Avto       0\n",
      "3       Namanganda “Moskvich” ariqqa ag‘darilib ketish...         Avto       0\n",
      "4       Qo‘qonda YPX xodimini mashina ustida sudrab ke...         Avto       0\n",
      "...                                                   ...          ...     ...\n",
      "102955  Sony 7 mm qalinlikdagi yangi Xperia T3 smartfo...  Texnologiya      10\n",
      "102956  Acer kompaniyasining yangi Iconia A1-830 plans...  Texnologiya      10\n",
      "102957  LG G3 ommaboplikda Samsung Galaxy S5’ni ortda ...  Texnologiya      10\n",
      "102958  Vertu kompaniyasi 8 ming yevrolik titan smartf...  Texnologiya      10\n",
      "102959  Apple yangi iOS 8 operatsion tizimini taqdim e...  Texnologiya      10\n",
      "\n",
      "[102960 rows x 3 columns]\n",
      "            category  labels\n",
      "0               Avto       0\n",
      "6044         Ayollar       1\n",
      "8701     Iqtisodiyot       2\n",
      "20866        Jinoyat       3\n",
      "25066      Madaniyat       4\n",
      "37864  Pazandachilik       5\n",
      "39904    Qonunchilik       6\n",
      "54683     Salomatlik       7\n",
      "59769        Siyosat       8\n",
      "72016          Sport       9\n",
      "85419    Texnologiya      10\n"
     ]
    }
   ],
   "source": [
    "# changing category to numeric\n",
    "label=pd.Categorical(dataframe['category']).codes\n",
    "label=pd.DataFrame(label)\n",
    "dataframe['labels']=pd.DataFrame(label)\n",
    "print(dataframe)\n",
    "\n",
    "unique_category_labels = dataframe[['category', 'labels']].drop_duplicates()\n",
    "print(unique_category_labels)"
   ]
  },
  {
   "cell_type": "code",
   "execution_count": 5,
   "metadata": {
    "execution": {
     "execution_failed": "2025-03-07T03:46:37.309Z"
    },
    "id": "PZSr4Q-MEjI4"
   },
   "outputs": [],
   "source": [
    "del dataframe['category']"
   ]
  },
  {
   "cell_type": "code",
   "execution_count": 6,
   "metadata": {
    "execution": {
     "execution_failed": "2025-03-07T03:46:37.315Z"
    },
    "id": "6QB8Cbv9EqEK"
   },
   "outputs": [],
   "source": [
    "# sheffule the dataset\n",
    "dataframe=dataframe.sample(frac=1)"
   ]
  },
  {
   "cell_type": "code",
   "execution_count": 7,
   "metadata": {
    "execution": {
     "execution_failed": "2025-03-07T03:46:37.315Z"
    },
    "id": "97MHtaEe36Ja"
   },
   "outputs": [],
   "source": [
    "#normalizarion\n",
    "import re\n",
    "#method to normalize character level missmatch such as ጸሀይ and ፀሐይ\n",
    "def normalization(input_token):\n",
    "    rep1=re.sub('[ሃኅኃሐሓኻ]','ሀ',input_token)\n",
    "    rep2=re.sub('[ሑኁዅ]','ሁ',rep1)\n",
    "\n",
    "    return rep2"
   ]
  },
  {
   "cell_type": "code",
   "execution_count": 8,
   "metadata": {
    "execution": {
     "execution_failed": "2025-03-07T03:46:37.316Z"
    },
    "id": "DplY7I_y3zUd"
   },
   "outputs": [],
   "source": [
    "# apply normalization and special characters removal\n",
    "# dataframe['articles']=dataframe['articles'].apply(lambda x: normalization(x))"
   ]
  },
  {
   "cell_type": "code",
   "execution_count": 9,
   "metadata": {
    "execution": {
     "execution_failed": "2025-03-07T03:46:37.316Z"
    },
    "id": "DQDjonh33tnL"
   },
   "outputs": [
    {
     "name": "stdout",
     "output_type": "stream",
     "text": [
      "                                                articles  labels\n",
      "21311  Qashqadaryoda 18 yoshli qiz uyi yonidan pichoq...       3\n",
      "57681  Kofe miya qarishining oldini olishi mumkin\\n\\n...       7\n",
      "64788  Xotin-qizlarni har tomonlama qo`llab-quvvatlas...       8\n",
      "13447  O‘zbekiston va Tojikiston ishbilarmon doiralar...       2\n",
      "23744  Qashqadaryoda nafaqa tayinlash uchun fuqarodan...       3\n",
      "...                                                  ...     ...\n",
      "94838  3-dekabr – tarixda birinchi yurak ko‘chirish o...      10\n",
      "39442  Bolalik ta’mini eslatuvchi shirinlik – parvard...       5\n",
      "23928  Toshkentda valyutafurushlar daliliy ashyolar b...       3\n",
      "60522  O‘zbekiston elchisi Avstriya prezidentiga isho...       8\n",
      "87523  Smartfon ekrani qizning ko‘zini “ilma-teshik” ...      10\n",
      "\n",
      "[102960 rows x 2 columns]\n",
      "                                                articles  labels\n",
      "21311  Qashqadaryoda 18 yoshli qiz uyi yonidan pichoq...       3\n",
      "57681  Kofe miya qarishining oldini olishi mumkin. Ra...       7\n",
      "64788  Xotinqizlarni har tomonlama qo‘llabquvvatlash ...       8\n",
      "13447  O‘zbekiston va Tojikiston ishbilarmon doiralar...       2\n",
      "23744  Qashqadaryoda nafaqa tayinlash uchun fuqarodan...       3\n",
      "...                                                  ...     ...\n",
      "94838  3dekabr  tarixda birinchi yurak ko‘chirish ope...      10\n",
      "39442  Bolalik ta’mini eslatuvchi shirinlik  parvarda...       5\n",
      "23928  Toshkentda valyutafurushlar daliliy ashyolar b...       3\n",
      "60522  O‘zbekiston elchisi Avstriya prezidentiga isho...       8\n",
      "87523  Smartfon ekrani qizning ko‘zini ilmateshik qil...      10\n",
      "\n",
      "[102960 rows x 2 columns]\n"
     ]
    }
   ],
   "source": [
    "# special symbol removal\n",
    "print(dataframe)\n",
    "# dataframe['articles']=dataframe['articles'].str.replace('[^\\w\\s]','',regex=True)\n",
    "dataframe['articles']=dataframe['articles'].str.replace(\"O'\",'O‘',regex=True)\n",
    "dataframe['articles']=dataframe['articles'].str.replace(\"G'\",'G‘',regex=True)\n",
    "dataframe['articles']=dataframe['articles'].str.replace(\"o'\",'o‘',regex=True)\n",
    "dataframe['articles']=dataframe['articles'].str.replace(\"g'\",'g‘',regex=True)\n",
    "dataframe['articles']=dataframe['articles'].str.replace('O`','O‘',regex=True)\n",
    "dataframe['articles']=dataframe['articles'].str.replace('G`','G‘',regex=True)\n",
    "dataframe['articles']=dataframe['articles'].str.replace('o`','o‘',regex=True)\n",
    "dataframe['articles']=dataframe['articles'].str.replace('g`','g‘',regex=True)\n",
    "dataframe['articles']=dataframe['articles'].str.replace(\"[^\\w\\s‘’`']\",'',regex=True)\n",
    "dataframe['articles'] = dataframe['articles'].str.replace('\\n\\n', '. ', regex=False)\n",
    "dataframe['articles'] = dataframe['articles'].str.replace('\\n', '. ', regex=False)\n",
    "\n",
    "print(dataframe)"
   ]
  },
  {
   "cell_type": "code",
   "execution_count": 10,
   "metadata": {
    "execution": {
     "execution_failed": "2025-03-07T03:46:37.316Z"
    },
    "id": "_QYuRpSItMzV"
   },
   "outputs": [],
   "source": [
    "# removing digits from the dataset\n",
    "dataframe['articles']=dataframe['articles'].str.replace('\\d+','',regex=True)"
   ]
  },
  {
   "cell_type": "code",
   "execution_count": 11,
   "metadata": {
    "execution": {
     "execution_failed": "2025-03-07T03:46:37.317Z"
    },
    "id": "1MsG8sbn6kNz"
   },
   "outputs": [],
   "source": [
    "# drawing density graph"
   ]
  },
  {
   "cell_type": "code",
   "execution_count": 12,
   "metadata": {
    "execution": {
     "execution_failed": "2025-03-07T03:46:37.322Z"
    },
    "id": "2k79DG0bui2S"
   },
   "outputs": [],
   "source": [
    "#formating the dataset to the fasttext format __label___ data\n",
    "dataframe['formatted']=\"__label__\"+dataframe['labels'].astype(str)+\" \"+dataframe['articles']"
   ]
  },
  {
   "cell_type": "code",
   "execution_count": 13,
   "metadata": {
    "colab": {
     "base_uri": "https://localhost:8080/",
     "height": 143
    },
    "execution": {
     "execution_failed": "2025-03-07T03:46:37.323Z"
    },
    "id": "DJHYRChx55B5",
    "outputId": "dfa6745c-5810-4ea7-b771-93e229345f8e"
   },
   "outputs": [
    {
     "data": {
      "text/html": [
       "<div>\n",
       "<style scoped>\n",
       "    .dataframe tbody tr th:only-of-type {\n",
       "        vertical-align: middle;\n",
       "    }\n",
       "\n",
       "    .dataframe tbody tr th {\n",
       "        vertical-align: top;\n",
       "    }\n",
       "\n",
       "    .dataframe thead th {\n",
       "        text-align: right;\n",
       "    }\n",
       "</style>\n",
       "<table border=\"1\" class=\"dataframe\">\n",
       "  <thead>\n",
       "    <tr style=\"text-align: right;\">\n",
       "      <th></th>\n",
       "      <th>articles</th>\n",
       "      <th>labels</th>\n",
       "      <th>formatted</th>\n",
       "    </tr>\n",
       "  </thead>\n",
       "  <tbody>\n",
       "    <tr>\n",
       "      <th>21311</th>\n",
       "      <td>Qashqadaryoda  yoshli qiz uyi yonidan pichoqla...</td>\n",
       "      <td>3</td>\n",
       "      <td>__label__3 Qashqadaryoda  yoshli qiz uyi yonid...</td>\n",
       "    </tr>\n",
       "    <tr>\n",
       "      <th>57681</th>\n",
       "      <td>Kofe miya qarishining oldini olishi mumkin. Ra...</td>\n",
       "      <td>7</td>\n",
       "      <td>__label__7 Kofe miya qarishining oldini olishi...</td>\n",
       "    </tr>\n",
       "    <tr>\n",
       "      <th>64788</th>\n",
       "      <td>Xotinqizlarni har tomonlama qo‘llabquvvatlash ...</td>\n",
       "      <td>8</td>\n",
       "      <td>__label__8 Xotinqizlarni har tomonlama qo‘llab...</td>\n",
       "    </tr>\n",
       "  </tbody>\n",
       "</table>\n",
       "</div>"
      ],
      "text/plain": [
       "                                                articles  labels  \\\n",
       "21311  Qashqadaryoda  yoshli qiz uyi yonidan pichoqla...       3   \n",
       "57681  Kofe miya qarishining oldini olishi mumkin. Ra...       7   \n",
       "64788  Xotinqizlarni har tomonlama qo‘llabquvvatlash ...       8   \n",
       "\n",
       "                                               formatted  \n",
       "21311  __label__3 Qashqadaryoda  yoshli qiz uyi yonid...  \n",
       "57681  __label__7 Kofe miya qarishining oldini olishi...  \n",
       "64788  __label__8 Xotinqizlarni har tomonlama qo‘llab...  "
      ]
     },
     "execution_count": 13,
     "metadata": {},
     "output_type": "execute_result"
    }
   ],
   "source": [
    "dataframe.head(3)"
   ]
  },
  {
   "cell_type": "code",
   "execution_count": 14,
   "metadata": {
    "execution": {
     "execution_failed": "2025-03-07T03:46:37.323Z"
    },
    "id": "DCvQZEmcwn2N"
   },
   "outputs": [],
   "source": [
    "# train test spliting and taking only the formated column\n",
    "from sklearn.model_selection import train_test_split\n",
    "train, test=train_test_split(dataframe['formatted'], test_size=0.2)"
   ]
  },
  {
   "cell_type": "code",
   "execution_count": 15,
   "metadata": {
    "colab": {
     "base_uri": "https://localhost:8080/"
    },
    "execution": {
     "execution_failed": "2025-03-07T03:46:37.323Z"
    },
    "id": "6RGTNW-x6SEx",
    "outputId": "9e85e266-c406-48e3-ef1a-2e93e53b76b9"
   },
   "outputs": [
    {
     "data": {
      "text/plain": [
       "((82368,), (20592,))"
      ]
     },
     "execution_count": 15,
     "metadata": {},
     "output_type": "execute_result"
    }
   ],
   "source": [
    "train.shape, test.shape"
   ]
  },
  {
   "cell_type": "code",
   "execution_count": 16,
   "metadata": {
    "execution": {
     "execution_failed": "2025-03-07T03:46:37.324Z"
    },
    "id": "m8C-eVLwxY0w"
   },
   "outputs": [],
   "source": [
    "# save the training and testing data\n",
    "train.to_csv(\"news.train\",header=False,index=False)\n",
    "test.to_csv(\"news.test\",header=False,index=False)"
   ]
  },
  {
   "cell_type": "code",
   "execution_count": 17,
   "metadata": {
    "colab": {
     "base_uri": "https://localhost:8080/"
    },
    "execution": {
     "execution_failed": "2025-03-07T03:46:37.324Z"
    },
    "id": "p4lj2wyzyknM",
    "outputId": "bf29fa79-a189-4198-e275-39ea7bd4b269"
   },
   "outputs": [],
   "source": [
    "# !pip install fasttext-wheel"
   ]
  },
  {
   "cell_type": "code",
   "execution_count": 18,
   "metadata": {
    "execution": {
     "execution_failed": "2025-03-07T03:46:37.330Z"
    },
    "id": "ic_u3YpvzISw"
   },
   "outputs": [],
   "source": [
    "import fasttext as ft"
   ]
  },
  {
   "cell_type": "code",
   "execution_count": 19,
   "metadata": {
    "execution": {
     "execution_failed": "2025-03-07T03:46:37.333Z"
    },
    "id": "gAylqZVHzPld"
   },
   "outputs": [],
   "source": [
    "# training the model\n",
    "model=ft.train_supervised(input=\"news.train\",loss='softmax',epoch=100, verbose=True)"
   ]
  },
  {
   "cell_type": "code",
   "execution_count": 20,
   "metadata": {
    "execution": {
     "execution_failed": "2025-03-07T03:46:37.333Z"
    },
    "id": "0WAxzaoEzhga"
   },
   "outputs": [],
   "source": [
    "# testing the model\n",
    "predict=model.test(\"news.test\")"
   ]
  },
  {
   "cell_type": "code",
   "execution_count": 21,
   "metadata": {
    "colab": {
     "base_uri": "https://localhost:8080/"
    },
    "execution": {
     "execution_failed": "2025-03-07T03:46:37.333Z"
    },
    "id": "AVhDROzSuvts",
    "outputId": "0e12051d-2cba-45e4-c990-989e56ccde0e",
    "scrolled": true
   },
   "outputs": [
    {
     "name": "stdout",
     "output_type": "stream",
     "text": [
      "(20592, 0.9374028749028749, 0.9374028749028749)\n"
     ]
    }
   ],
   "source": [
    "print(predict)"
   ]
  },
  {
   "cell_type": "code",
   "execution_count": 22,
   "metadata": {
    "execution": {
     "execution_failed": "2025-03-07T03:46:37.334Z"
    }
   },
   "outputs": [
    {
     "name": "stdout",
     "output_type": "stream",
     "text": [
      "Accuracy: 0.9374514374514374\n",
      "Precision: 0.9374246218759336\n",
      "Recall: 0.9374514374514374\n",
      "F1 Score: 0.9373908125955644\n",
      "Classification Report:\n",
      "              precision    recall  f1-score   support\n",
      "\n",
      "           0       0.88      0.90      0.89      1116\n",
      "           1       0.84      0.79      0.81       540\n",
      "          10       0.93      0.92      0.93      3572\n",
      "           2       0.89      0.88      0.88      2536\n",
      "           3       0.96      0.98      0.97       875\n",
      "           4       0.96      0.96      0.96      2587\n",
      "           5       0.98      0.97      0.98       390\n",
      "           6       0.99      0.99      0.99      2917\n",
      "           7       0.87      0.91      0.89       963\n",
      "           8       0.92      0.92      0.92      2446\n",
      "           9       0.99      0.99      0.99      2650\n",
      "\n",
      "    accuracy                           0.94     20592\n",
      "   macro avg       0.93      0.93      0.93     20592\n",
      "weighted avg       0.94      0.94      0.94     20592\n",
      "\n"
     ]
    },
    {
     "data": {
      "image/png": "[encoded data removed]",
      "text/plain": [
       "<Figure size 720x576 with 2 Axes>"
      ]
     },
     "metadata": {
      "needs_background": "light"
     },
     "output_type": "display_data"
    },
    {
     "name": "stdout",
     "output_type": "stream",
     "text": [
      "Confusion Matrix:\n",
      "[[1006    2   67   17    8    6    0    0    0    7    3]\n",
      " [   1  428    9    1    0   18    4    0   79    0    0]\n",
      " [  84   16 3292  106    1   34    0    2   22    8    7]\n",
      " [  23    3  113 2227   12    3    0   14    7  127    7]\n",
      " [   5    0    0    6  857    4    0    0    1    2    0]\n",
      " [  14   15   32   10    4 2479    0    1    4   22    6]\n",
      " [   0    6    0    0    0    1  378    0    5    0    0]\n",
      " [   2    0    1    5    0    2    0 2889    3   14    1]\n",
      " [   0   42   19   13    1    3    2    0  872   11    0]\n",
      " [   4    0    7  121    6   17    1   17    7 2256   10]\n",
      " [   3    0    3    7    1   11    0    0    2    3 2620]]\n"
     ]
    }
   ],
   "source": [
    "from sklearn.metrics import confusion_matrix, accuracy_score, precision_score, recall_score, f1_score, classification_report\n",
    "import matplotlib.pyplot as plt\n",
    "import seaborn as sns\n",
    "\n",
    "# Load your test data (assuming it's formatted as FastText expects)\n",
    "test_file = \"news.test\"  # Replace \"news.test\" with your actual test file\n",
    "\n",
    "# Get predictions and true labels\n",
    "y_true = []\n",
    "y_pred = []\n",
    "\n",
    "with open(test_file, \"r\") as f:\n",
    "    for line in f:\n",
    "        label = line.split(\" \")[0].replace(\"__label__\", \"\")\n",
    "        text = \" \".join(line.split(\" \")[1:]).strip() # Remove extra spaces and newlines\n",
    "#         text = text.replace('\\n', ' ') # Replace internal newlines with spaces\n",
    "        prediction = model.predict(text)[0][0].replace(\"__label__\", \"\")\n",
    "\n",
    "        y_true.append(label)\n",
    "        y_pred.append(prediction)\n",
    "\n",
    "# Calculate metrics\n",
    "accuracy = accuracy_score(y_true, y_pred)\n",
    "precision = precision_score(y_true, y_pred, average=\"weighted\", zero_division=0)\n",
    "recall = recall_score(y_true, y_pred, average=\"weighted\", zero_division=0)\n",
    "f1 = f1_score(y_true, y_pred, average=\"weighted\", zero_division=0)\n",
    "report = classification_report(y_true, y_pred, zero_division=0)\n",
    "cm = confusion_matrix(y_true, y_pred)\n",
    "\n",
    "# Print metrics\n",
    "print(f\"Accuracy: {accuracy}\")\n",
    "print(f\"Precision: {precision}\")\n",
    "print(f\"Recall: {recall}\")\n",
    "print(f\"F1 Score: {f1}\")\n",
    "print(f\"Classification Report:\\n{report}\")\n",
    "\n",
    "# Plot confusion matrix\n",
    "plt.figure(figsize=(10, 8))\n",
    "sns.heatmap(cm, annot=True, fmt=\"d\", cmap=\"Blues\")\n",
    "plt.xlabel(\"Predicted Labels\")\n",
    "plt.ylabel(\"True Labels\")\n",
    "plt.title(\"Confusion Matrix\")\n",
    "plt.show()\n",
    "\n",
    "print(\"Confusion Matrix:\")\n",
    "print(cm)"
   ]
  },
  {
   "cell_type": "code",
   "execution_count": 24,
   "metadata": {},
   "outputs": [
    {
     "data": {
      "image/png": "[encoded data removed]",
      "text/plain": [
       "<Figure size 576x432 with 1 Axes>"
      ]
     },
     "metadata": {
      "needs_background": "light"
     },
     "output_type": "display_data"
    }
   ],
   "source": [
    "import matplotlib.pyplot as plt\n",
    "\n",
    "# Lists to store accuracy values\n",
    "epochs = list(range(10, 110, 10))  # Track every 10 epochs\n",
    "# train_accuracies = []\n",
    "test_accuracies = []\n",
    "\n",
    "# Iteratively train and track accuracy\n",
    "for epoch in epochs:\n",
    "    model = ft.train_supervised(input=\"news.train\", loss='softmax', epoch=epoch)\n",
    "    \n",
    "    # Track training accuracy\n",
    "#     train_pred = model.test(\"news.train\")\n",
    "#     train_accuracies.append(train_pred[1])  # Accuracy value\n",
    "    \n",
    "    # Track test accuracy\n",
    "    test_pred = model.test(\"news.test\")\n",
    "    test_accuracies.append(test_pred[1])  # Accuracy value\n",
    "\n",
    "# Plot accuracy over epochs\n",
    "plt.figure(figsize=(8, 6))\n",
    "# plt.plot(epochs, train_accuracies, label='Training Accuracy', marker='o')\n",
    "plt.plot(epochs, test_accuracies, label='Test Accuracy', marker='o')\n",
    "plt.title('Model Accuracy Over Epochs')\n",
    "plt.xlabel('Epochs')\n",
    "plt.ylabel('Accuracy')\n",
    "plt.grid(True)\n",
    "plt.legend()\n",
    "plt.show()"
   ]
  },
  {
   "cell_type": "code",
   "execution_count": null,
   "metadata": {},
   "outputs": [],
   "source": []
  }
 ],
 "metadata": {
  "colab": {
   "authorship_tag": "ABX9TyOfDqe8PodFhVDOOcdAr2UT",
   "include_colab_link": true,
   "provenance": []
  },
  "kaggle": {
   "accelerator": "none",
   "dataSources": [
    {
     "datasetId": 6802262,
     "sourceId": 10938282,
     "sourceType": "datasetVersion"
    }
   ],
   "dockerImageVersionId": 30918,
   "isGpuEnabled": false,
   "isInternetEnabled": false,
   "language": "python",
   "sourceType": "notebook"
  },
  "kernelspec": {
   "display_name": "Python 3 (ipykernel)",
   "language": "python",
   "name": "python3"
  },
  "language_info": {
   "codemirror_mode": {
    "name": "ipython",
    "version": 3
   },
   "file_extension": ".py",
   "mimetype": "text/x-python",
   "name": "python",
   "nbconvert_exporter": "python",
   "pygments_lexer": "ipython3",
   "version": "3.9.12"
  }
 },
 "nbformat": 4,
 "nbformat_minor": 4
}
