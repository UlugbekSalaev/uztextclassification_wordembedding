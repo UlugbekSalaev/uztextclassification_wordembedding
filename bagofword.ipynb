{
 "cells": [
  {
   "cell_type": "markdown",
   "metadata": {
    "colab_type": "text",
    "id": "view-in-github"
   },
   "source": [
    "<a href=\"https://colab.research.google.com/github/demekeendalie/Fine-tuning-bert-model-for-amharic-news-classification/blob/main/Bag_of_word_classifier.ipynb\" target=\"_parent\"><img src=\"https://colab.research.google.com/assets/colab-badge.svg\" alt=\"Open In Colab\"/></a>"
   ]
  },
  {
   "cell_type": "code",
   "execution_count": 19,
   "metadata": {
    "execution": {
     "iopub.execute_input": "2025-03-08T17:21:06.664808Z",
     "iopub.status.busy": "2025-03-08T17:21:06.664330Z",
     "iopub.status.idle": "2025-03-08T17:21:24.613555Z",
     "shell.execute_reply": "2025-03-08T17:21:24.612750Z",
     "shell.execute_reply.started": "2025-03-08T17:21:06.664767Z"
    },
    "id": "OhJdh97irjX1"
   },
   "outputs": [],
   "source": [
    "#importing basic packages\n",
    "import pandas as pd\n",
    "import numpy as np\n",
    "import tensorflow as tf"
   ]
  },
  {
   "cell_type": "code",
   "execution_count": 20,
   "metadata": {
    "execution": {
     "iopub.execute_input": "2025-03-08T17:21:24.615126Z",
     "iopub.status.busy": "2025-03-08T17:21:24.614459Z",
     "iopub.status.idle": "2025-03-08T17:44:48.736133Z",
     "shell.execute_reply": "2025-03-08T17:44:48.735245Z",
     "shell.execute_reply.started": "2025-03-08T17:21:24.615090Z"
    },
    "id": "TExn7JejtfDj"
   },
   "outputs": [
    {
     "name": "stdout",
     "output_type": "stream",
     "text": [
      "C:/Users/E-MaxPCShop/Desktop/Uzbek_News_Dataset_small\\Avto\n",
      "C:/Users/E-MaxPCShop/Desktop/Uzbek_News_Dataset_small\\Ayollar\n",
      "C:/Users/E-MaxPCShop/Desktop/Uzbek_News_Dataset_small\\Iqtisodiyot\n",
      "C:/Users/E-MaxPCShop/Desktop/Uzbek_News_Dataset_small\\Jinoyat\n",
      "C:/Users/E-MaxPCShop/Desktop/Uzbek_News_Dataset_small\\Madaniyat\n",
      "C:/Users/E-MaxPCShop/Desktop/Uzbek_News_Dataset_small\\Pazandachilik\n",
      "C:/Users/E-MaxPCShop/Desktop/Uzbek_News_Dataset_small\\Qonunchilik\n",
      "C:/Users/E-MaxPCShop/Desktop/Uzbek_News_Dataset_small\\Salomatlik\n",
      "C:/Users/E-MaxPCShop/Desktop/Uzbek_News_Dataset_small\\Siyosat\n",
      "C:/Users/E-MaxPCShop/Desktop/Uzbek_News_Dataset_small\\Sport\n",
      "C:/Users/E-MaxPCShop/Desktop/Uzbek_News_Dataset_small\\Texnologiya\n"
     ]
    }
   ],
   "source": [
    "import os\n",
    "dataset_path = 'C:/Users/E-MaxPCShop/Desktop/Uzbek_News_Dataset_small'\n",
    "\n",
    "data = []\n",
    "for category in os.listdir(dataset_path):\n",
    "    category_path = os.path.join(dataset_path, category)\n",
    "    print(category_path)\n",
    "    # Check if it's a directory (category folder)\n",
    "    if os.path.isdir(category_path):\n",
    "        for filename in os.listdir(category_path)[:8000]:\n",
    "            if filename.endswith('.txt'):\n",
    "                file_path = os.path.join(category_path, filename)\n",
    "                try:\n",
    "                    with open(file_path, 'r', encoding='utf-8') as file:\n",
    "                        article_text = file.read().strip()  # Read and remove leading/trailing spaces\n",
    "                        data.append({'articles': article_text, 'category': category})\n",
    "                except Exception as e:\n",
    "                    print(f\"Error reading file {file_path}: {e}\")\n",
    "\n",
    "dataframe = pd.DataFrame(data)"
   ]
  },
  {
   "cell_type": "code",
   "execution_count": 21,
   "metadata": {
    "colab": {
     "base_uri": "https://localhost:8080/"
    },
    "execution": {
     "iopub.execute_input": "2025-03-08T17:44:48.737322Z",
     "iopub.status.busy": "2025-03-08T17:44:48.737042Z",
     "iopub.status.idle": "2025-03-08T17:44:48.787433Z",
     "shell.execute_reply": "2025-03-08T17:44:48.786584Z",
     "shell.execute_reply.started": "2025-03-08T17:44:48.737290Z"
    },
    "id": "ci03g7OItk8m",
    "outputId": "19f744ff-ca20-4d92-bd76-93b0a92ba76b"
   },
   "outputs": [
    {
     "name": "stdout",
     "output_type": "stream",
     "text": [
      "                                                articles     category\n",
      "0      Tesla barcha elektromobillarining narxini oshi...         Avto\n",
      "1      UzAuto Motors — o‘rindiq isitish modeli va mag...         Avto\n",
      "2      Lego’ning 358 mingdan ortiq detali yordamida t...         Avto\n",
      "3      Namanganda “Moskvich” ariqqa ag‘darilib ketish...         Avto\n",
      "4      Qo‘qonda YPX xodimini mashina ustida sudrab ke...         Avto\n",
      "...                                                  ...          ...\n",
      "68022  Rossiya TIVga xakerlik hujumi uyushtirildi\\n\\n...  Texnologiya\n",
      "68023  Smartfonlarning batareyalari nega portlaydi?\\n...  Texnologiya\n",
      "68024  Eng kichkina sensorli telefon ishlab chiqarild...  Texnologiya\n",
      "68025  Xitoyning eng badavlat kishilaridan biri 25 yo...  Texnologiya\n",
      "68026  Kodak Ektra - retro uslubidagi kamerofon\\n\\nKo...  Texnologiya\n",
      "\n",
      "[68027 rows x 2 columns]\n",
      "Iqtisodiyot      8000\n",
      "Madaniyat        8000\n",
      "Qonunchilik      8000\n",
      "Siyosat          8000\n",
      "Sport            8000\n",
      "Texnologiya      8000\n",
      "Avto             6044\n",
      "Salomatlik       5086\n",
      "Jinoyat          4200\n",
      "Ayollar          2657\n",
      "Pazandachilik    2040\n",
      "Name: category, dtype: int64\n"
     ]
    }
   ],
   "source": [
    "print(dataframe)\n",
    "category_counts = dataframe['category'].value_counts()\n",
    "print(category_counts)"
   ]
  },
  {
   "cell_type": "code",
   "execution_count": 22,
   "metadata": {
    "colab": {
     "base_uri": "https://localhost:8080/"
    },
    "execution": {
     "iopub.execute_input": "2025-03-08T17:44:48.789626Z",
     "iopub.status.busy": "2025-03-08T17:44:48.789356Z",
     "iopub.status.idle": "2025-03-08T17:44:48.831168Z",
     "shell.execute_reply": "2025-03-08T17:44:48.830312Z",
     "shell.execute_reply.started": "2025-03-08T17:44:48.789605Z"
    },
    "id": "QEcryp9GtvPA",
    "outputId": "f871afe6-30f7-4c79-86c2-ce0caf0a2794"
   },
   "outputs": [
    {
     "name": "stdout",
     "output_type": "stream",
     "text": [
      "                                                articles     category  labels\n",
      "0      Tesla barcha elektromobillarining narxini oshi...         Avto       0\n",
      "1      UzAuto Motors — o‘rindiq isitish modeli va mag...         Avto       0\n",
      "2      Lego’ning 358 mingdan ortiq detali yordamida t...         Avto       0\n",
      "3      Namanganda “Moskvich” ariqqa ag‘darilib ketish...         Avto       0\n",
      "4      Qo‘qonda YPX xodimini mashina ustida sudrab ke...         Avto       0\n",
      "...                                                  ...          ...     ...\n",
      "68022  Rossiya TIVga xakerlik hujumi uyushtirildi\\n\\n...  Texnologiya      10\n",
      "68023  Smartfonlarning batareyalari nega portlaydi?\\n...  Texnologiya      10\n",
      "68024  Eng kichkina sensorli telefon ishlab chiqarild...  Texnologiya      10\n",
      "68025  Xitoyning eng badavlat kishilaridan biri 25 yo...  Texnologiya      10\n",
      "68026  Kodak Ektra - retro uslubidagi kamerofon\\n\\nKo...  Texnologiya      10\n",
      "\n",
      "[68027 rows x 3 columns]\n",
      "            category  labels\n",
      "0               Avto       0\n",
      "6044         Ayollar       1\n",
      "8701     Iqtisodiyot       2\n",
      "16701        Jinoyat       3\n",
      "20901      Madaniyat       4\n",
      "28901  Pazandachilik       5\n",
      "30941    Qonunchilik       6\n",
      "38941     Salomatlik       7\n",
      "44027        Siyosat       8\n",
      "52027          Sport       9\n",
      "60027    Texnologiya      10\n"
     ]
    }
   ],
   "source": [
    "# changing category to numeric\n",
    "label=pd.Categorical(dataframe['category']).codes\n",
    "label=pd.DataFrame(label)\n",
    "dataframe['labels']=pd.DataFrame(label)\n",
    "print(dataframe)\n",
    "\n",
    "unique_category_labels = dataframe[['category', 'labels']].drop_duplicates()\n",
    "print(unique_category_labels)"
   ]
  },
  {
   "cell_type": "code",
   "execution_count": 23,
   "metadata": {
    "execution": {
     "iopub.execute_input": "2025-03-08T17:44:48.832772Z",
     "iopub.status.busy": "2025-03-08T17:44:48.832468Z",
     "iopub.status.idle": "2025-03-08T17:44:48.852050Z",
     "shell.execute_reply": "2025-03-08T17:44:48.851240Z",
     "shell.execute_reply.started": "2025-03-08T17:44:48.832747Z"
    },
    "id": "PY9fJaVPt_Qc"
   },
   "outputs": [],
   "source": [
    "# mixing each categories and thier labels\n",
    "dataframe=dataframe.sample(frac=1)"
   ]
  },
  {
   "cell_type": "code",
   "execution_count": 24,
   "metadata": {
    "colab": {
     "base_uri": "https://localhost:8080/"
    },
    "execution": {
     "iopub.execute_input": "2025-03-08T17:44:48.853142Z",
     "iopub.status.busy": "2025-03-08T17:44:48.852891Z",
     "iopub.status.idle": "2025-03-08T17:44:54.362738Z",
     "shell.execute_reply": "2025-03-08T17:44:54.361782Z",
     "shell.execute_reply.started": "2025-03-08T17:44:48.853116Z"
    },
    "id": "dddrQtXVuEd7",
    "outputId": "905b250c-6bbb-4a06-90d4-87d8109a20ae"
   },
   "outputs": [
    {
     "name": "stdout",
     "output_type": "stream",
     "text": [
      "279.0103782321725\n",
      "         category    word_len\n",
      "0            Avto  152.877234\n",
      "1         Ayollar  270.330072\n",
      "2     Iqtisodiyot  264.641375\n",
      "3         Jinoyat  180.932619\n",
      "4       Madaniyat  221.693750\n",
      "5   Pazandachilik   61.512255\n",
      "6     Qonunchilik  783.223000\n",
      "7      Salomatlik  256.870035\n",
      "8         Siyosat  241.980250\n",
      "9           Sport  186.161000\n",
      "10    Texnologiya  195.568000\n"
     ]
    }
   ],
   "source": [
    "dataframe['word_len'] = dataframe['articles'].str.split().str.len()\n",
    "print(dataframe['word_len'].mean())\n",
    "\n",
    "mean_word_len_by_category = dataframe.groupby('category', as_index=False)['word_len'].mean()\n",
    "print(mean_word_len_by_category)"
   ]
  },
  {
   "cell_type": "code",
   "execution_count": 25,
   "metadata": {
    "execution": {
     "iopub.execute_input": "2025-03-08T17:44:54.364016Z",
     "iopub.status.busy": "2025-03-08T17:44:54.363729Z",
     "iopub.status.idle": "2025-03-08T17:44:54.368268Z",
     "shell.execute_reply": "2025-03-08T17:44:54.367367Z",
     "shell.execute_reply.started": "2025-03-08T17:44:54.363991Z"
    },
    "id": "BiZInvEfuHro"
   },
   "outputs": [],
   "source": [
    "#normalizarion\n",
    "import re\n",
    "#method to normalize character level missmatch such as ጸሀይ and ፀሐይ\n",
    "def normalization(input_token):\n",
    "    rep1=re.sub('[ሃኅኃሐሓኻ]','ሀ',input_token)\n",
    "    rep2=re.sub('[ሑኁዅ]','ሁ',rep1)\n",
    "   \n",
    "    return rep2"
   ]
  },
  {
   "cell_type": "code",
   "execution_count": 26,
   "metadata": {
    "execution": {
     "iopub.execute_input": "2025-03-08T17:44:54.369438Z",
     "iopub.status.busy": "2025-03-08T17:44:54.369183Z",
     "iopub.status.idle": "2025-03-08T17:44:58.992858Z",
     "shell.execute_reply": "2025-03-08T17:44:58.992057Z",
     "shell.execute_reply.started": "2025-03-08T17:44:54.369409Z"
    },
    "id": "1vDVwnYIuOXR"
   },
   "outputs": [],
   "source": [
    "# apply normalization and special characters removal\n",
    "dataframe['articles']=dataframe['articles'].apply(lambda x: normalization(x))"
   ]
  },
  {
   "cell_type": "code",
   "execution_count": 27,
   "metadata": {
    "execution": {
     "iopub.execute_input": "2025-03-08T17:44:58.994136Z",
     "iopub.status.busy": "2025-03-08T17:44:58.993764Z",
     "iopub.status.idle": "2025-03-08T17:45:06.539310Z",
     "shell.execute_reply": "2025-03-08T17:45:06.538368Z",
     "shell.execute_reply.started": "2025-03-08T17:44:58.994102Z"
    },
    "id": "bC-nRDvvubvx"
   },
   "outputs": [],
   "source": [
    "# special symbol removal\n",
    "# dataframe['articles']=dataframe['articles'].str.replace('[^\\w\\s]','',regex=True)\n",
    "dataframe['articles']=dataframe['articles'].str.replace(\"O'\",'O‘',regex=True)\n",
    "dataframe['articles']=dataframe['articles'].str.replace(\"G'\",'G‘',regex=True)\n",
    "dataframe['articles']=dataframe['articles'].str.replace(\"o'\",'o‘',regex=True)\n",
    "dataframe['articles']=dataframe['articles'].str.replace(\"g'\",'g‘',regex=True)\n",
    "dataframe['articles']=dataframe['articles'].str.replace('O`','O‘',regex=True)\n",
    "dataframe['articles']=dataframe['articles'].str.replace('G`','G‘',regex=True)\n",
    "dataframe['articles']=dataframe['articles'].str.replace('o`','o‘',regex=True)\n",
    "dataframe['articles']=dataframe['articles'].str.replace('g`','g‘',regex=True)\n",
    "dataframe['articles']=dataframe['articles'].str.replace(\"[^\\w\\s‘’`']\",'',regex=True)\n",
    "dataframe['articles'] = dataframe['articles'].str.replace('\\n\\n', '. ', regex=False)\n",
    "dataframe['articles'] = dataframe['articles'].str.replace('\\n', '. ', regex=False)"
   ]
  },
  {
   "cell_type": "code",
   "execution_count": 28,
   "metadata": {
    "execution": {
     "iopub.execute_input": "2025-03-08T17:45:06.540479Z",
     "iopub.status.busy": "2025-03-08T17:45:06.540233Z",
     "iopub.status.idle": "2025-03-08T17:45:12.112154Z",
     "shell.execute_reply": "2025-03-08T17:45:12.111246Z",
     "shell.execute_reply.started": "2025-03-08T17:45:06.540459Z"
    },
    "id": "RA2Rf2V8ueHz"
   },
   "outputs": [],
   "source": [
    "# removing digits from the dataset\n",
    "dataframe['articles']=dataframe['articles'].str.replace('\\d+','',regex=True)"
   ]
  },
  {
   "cell_type": "code",
   "execution_count": 29,
   "metadata": {
    "execution": {
     "iopub.execute_input": "2025-03-08T17:45:12.113583Z",
     "iopub.status.busy": "2025-03-08T17:45:12.113167Z",
     "iopub.status.idle": "2025-03-08T17:45:12.126249Z",
     "shell.execute_reply": "2025-03-08T17:45:12.125392Z",
     "shell.execute_reply.started": "2025-03-08T17:45:12.113542Z"
    },
    "id": "KPPhtoYlyJoP"
   },
   "outputs": [
    {
     "name": "stdout",
     "output_type": "stream",
     "text": [
      "                                                articles     category  labels  \\\n",
      "33040  O‘zbekiston Respublikasi Investitsiyalar va ta...  Qonunchilik       6   \n",
      "49412  O‘zbekiston Prezidenti Pokiston Bosh vaziri bi...      Siyosat       8   \n",
      "3315   O‘zbek avtosanoatida mahsulot ishlab chiqarish...         Avto       0   \n",
      "5639   Farg‘onada yo‘l chetida to‘xtab turgan ZIL tir...         Avto       0   \n",
      "57272  O‘zbek qizi Erondagi musobaqaning eng yaxshi s...        Sport       9   \n",
      "...                                                  ...          ...     ...   \n",
      "33289  Biotexnologiyalarni rivojlantirish va mamlakat...  Qonunchilik       6   \n",
      "62429  iPhone  Pro bir oy davomida ko‘l ostida yotdi ...  Texnologiya      10   \n",
      "45211  Toshkentning bir qator tumanlari hokimlari tay...      Siyosat       8   \n",
      "39197  Shifo maslahat HOMILADOR BO‘LOLMASLIGIM VAZNIM...   Salomatlik       7   \n",
      "27598  Garri Potterning birinchi nashri Londondagi au...    Madaniyat       4   \n",
      "\n",
      "       word_len  \n",
      "33040      4484  \n",
      "49412       160  \n",
      "3315        115  \n",
      "5639        141  \n",
      "57272       120  \n",
      "...         ...  \n",
      "33289      3065  \n",
      "62429       157  \n",
      "45211       201  \n",
      "39197       121  \n",
      "27598        63  \n",
      "\n",
      "[68027 rows x 4 columns]\n"
     ]
    }
   ],
   "source": [
    "print(dataframe)"
   ]
  },
  {
   "cell_type": "code",
   "execution_count": 30,
   "metadata": {},
   "outputs": [],
   "source": [
    "dataframe=dataframe[['articles','labels']]"
   ]
  },
  {
   "cell_type": "code",
   "execution_count": 31,
   "metadata": {
    "execution": {
     "iopub.execute_input": "2025-03-08T17:45:12.127558Z",
     "iopub.status.busy": "2025-03-08T17:45:12.127213Z",
     "iopub.status.idle": "2025-03-08T17:45:12.715149Z",
     "shell.execute_reply": "2025-03-08T17:45:12.714284Z",
     "shell.execute_reply.started": "2025-03-08T17:45:12.127525Z"
    },
    "id": "4it24JWyu3Ht"
   },
   "outputs": [],
   "source": [
    "# train test split\n",
    "from sklearn.model_selection import train_test_split\n",
    "X_train, X_test,y_train,y_test = train_test_split(dataframe['articles'],dataframe['labels'], test_size=0.20, random_state=42)"
   ]
  },
  {
   "cell_type": "code",
   "execution_count": 32,
   "metadata": {
    "colab": {
     "base_uri": "https://localhost:8080/"
    },
    "execution": {
     "execution_failed": "2025-03-08T18:24:50.971Z",
     "iopub.execute_input": "2025-03-08T17:45:12.718123Z",
     "iopub.status.busy": "2025-03-08T17:45:12.717586Z"
    },
    "id": "eeBQghW-u93d",
    "outputId": "d385adef-8953-482c-8e2e-7b51442e8ef6"
   },
   "outputs": [],
   "source": [
    "import pandas as pd\n",
    "from sklearn.feature_extraction.text import CountVectorizer\n",
    "from sklearn.model_selection import train_test_split\n",
    "from sklearn.naive_bayes import MultinomialNB\n",
    "from sklearn.neural_network import MLPClassifier\n",
    "from sklearn.metrics import confusion_matrix, accuracy_score, precision_score, recall_score, f1_score, classification_report\n",
    "# Create a Bag-of-Words   model\n",
    "vectorizer = CountVectorizer()\n",
    "X_train_vec = vectorizer.fit_transform(X_train)\n",
    "X_test_vec = vectorizer.transform(X_test)"
   ]
  },
  {
   "cell_type": "code",
   "execution_count": 33,
   "metadata": {},
   "outputs": [
    {
     "name": "stdout",
     "output_type": "stream",
     "text": [
      "Iteration 1, loss = 0.36403193\n",
      "Iteration 2, loss = 0.05038071\n",
      "Iteration 3, loss = 0.02361505\n",
      "Iteration 4, loss = 0.01652478\n",
      "Iteration 5, loss = 0.01239739\n",
      "Iteration 6, loss = 0.01296709\n",
      "Iteration 7, loss = 0.00908436\n",
      "Iteration 8, loss = 0.00812937\n",
      "Iteration 9, loss = 0.00850189\n",
      "Iteration 10, loss = 0.00854429\n",
      "Iteration 11, loss = 0.00544753\n",
      "Iteration 12, loss = 0.00654473\n",
      "Iteration 13, loss = 0.00548038\n",
      "Iteration 14, loss = 0.00691816\n",
      "Iteration 15, loss = 0.00689089\n",
      "Iteration 16, loss = 0.00775611\n",
      "Iteration 17, loss = 0.00763575\n",
      "Iteration 18, loss = 0.02170941\n",
      "Iteration 19, loss = 0.01263156\n",
      "Iteration 20, loss = 0.01026716\n",
      "Iteration 21, loss = 0.00603550\n",
      "Iteration 22, loss = 0.00428007\n",
      "Iteration 23, loss = 0.00377587\n",
      "Iteration 24, loss = 0.00315540\n",
      "Iteration 25, loss = 0.00445467\n",
      "Iteration 26, loss = 0.00299207\n",
      "Iteration 27, loss = 0.00316462\n",
      "Iteration 28, loss = 0.00421462\n",
      "Iteration 29, loss = 0.01116682\n",
      "Iteration 30, loss = 0.01052613\n",
      "Iteration 31, loss = 0.01527726\n",
      "Iteration 32, loss = 0.01736567\n",
      "Iteration 33, loss = 0.00845493\n",
      "Iteration 34, loss = 0.00613978\n",
      "Iteration 35, loss = 0.00441642\n",
      "Iteration 36, loss = 0.00348759\n",
      "Iteration 37, loss = 0.00337602\n",
      "Training loss did not improve more than tol=0.000100 for 10 consecutive epochs. Stopping.\n",
      "Accuracy: 0.9303983536674997\n",
      "Precision: 0.9266325256343052\n",
      "Recall: 0.9263450916058447\n",
      "F1-score: 0.9264285374118614\n",
      "              precision    recall  f1-score   support\n",
      "\n",
      "           0       0.89      0.90      0.89      1181\n",
      "           1       0.83      0.80      0.81       479\n",
      "           2       0.87      0.87      0.87      1582\n",
      "           3       0.96      0.97      0.97       861\n",
      "           4       0.96      0.96      0.96      1661\n",
      "           5       0.98      0.99      0.98       410\n",
      "           6       0.97      0.98      0.98      1527\n",
      "           7       0.91      0.91      0.91      1037\n",
      "           8       0.93      0.93      0.93      1610\n",
      "           9       0.99      0.99      0.99      1642\n",
      "          10       0.90      0.88      0.89      1616\n",
      "\n",
      "    accuracy                           0.93     13606\n",
      "   macro avg       0.93      0.93      0.93     13606\n",
      "weighted avg       0.93      0.93      0.93     13606\n",
      "\n"
     ]
    }
   ],
   "source": [
    "# create mlp classifier\n",
    "clf = MLPClassifier(hidden_layer_sizes=(100,), activation='relu', solver='adam', max_iter=50, verbose=True)\n",
    "\n",
    "clf.fit(X_train_vec, y_train)\n",
    "\n",
    "# Predict on the test set\n",
    "y_pred = clf.predict(X_test_vec)\n",
    "# Evaluate the model\n",
    "print(\"Accuracy:\", accuracy_score(y_test, y_pred))\n",
    "print(\"Precision:\", precision_score(y_test, y_pred, average='macro')) # Changed line: Added average='macro'\n",
    "print(\"Recall:\", recall_score(y_test, y_pred,average='macro')) # Changed line: Added average='macro'\n",
    "print(\"F1-score:\", f1_score(y_test, y_pred,average='macro')) # Changed line: Added average='macro'\n",
    "print(classification_report(y_test, y_pred))\n",
    "cm = confusion_matrix(y_test, y_pred)"
   ]
  },
  {
   "cell_type": "code",
   "execution_count": 34,
   "metadata": {},
   "outputs": [
    {
     "data": {
      "image/png": "[encoded data removed]",
      "text/plain": [
       "<Figure size 720x576 with 2 Axes>"
      ]
     },
     "metadata": {
      "needs_background": "light"
     },
     "output_type": "display_data"
    }
   ],
   "source": [
    "import matplotlib.pyplot as plt\n",
    "import seaborn as sns\n",
    "\n",
    "# Plot confusion matrix\n",
    "plt.figure(figsize=(10, 8))\n",
    "sns.heatmap(cm, annot=True, fmt=\"d\", cmap=\"Blues\")\n",
    "plt.xlabel(\"Predicted Labels\")\n",
    "plt.ylabel(\"True Labels\")\n",
    "plt.title(\"Confusion Matrix\")\n",
    "plt.show()"
   ]
  },
  {
   "cell_type": "code",
   "execution_count": 35,
   "metadata": {},
   "outputs": [
    {
     "data": {
      "image/png": "[encoded data removed]",
      "text/plain": [
       "<Figure size 576x360 with 1 Axes>"
      ]
     },
     "metadata": {
      "needs_background": "light"
     },
     "output_type": "display_data"
    }
   ],
   "source": [
    "import matplotlib.pyplot as plt\n",
    "\n",
    "# Plotting the training loss curve\n",
    "plt.figure(figsize=(8, 5))\n",
    "plt.plot(clf.loss_curve_, label='Training Loss', color='red')\n",
    "plt.xlabel('Iterations')\n",
    "plt.ylabel('Loss')\n",
    "plt.title('Training Loss Over Iterations')\n",
    "plt.grid(True)\n",
    "plt.legend()\n",
    "plt.show()"
   ]
  },
  {
   "cell_type": "code",
   "execution_count": 18,
   "metadata": {},
   "outputs": [
    {
     "name": "stderr",
     "output_type": "stream",
     "text": [
      "C:\\Users\\E-MaxPCShop\\anaconda3\\lib\\site-packages\\sklearn\\neural_network\\_multilayer_perceptron.py:691: ConvergenceWarning: Stochastic Optimizer: Maximum iterations (1) reached and the optimization hasn't converged yet.\n",
      "  warnings.warn(\n",
      "C:\\Users\\E-MaxPCShop\\anaconda3\\lib\\site-packages\\sklearn\\neural_network\\_multilayer_perceptron.py:691: ConvergenceWarning: Stochastic Optimizer: Maximum iterations (1) reached and the optimization hasn't converged yet.\n",
      "  warnings.warn(\n",
      "C:\\Users\\E-MaxPCShop\\anaconda3\\lib\\site-packages\\sklearn\\neural_network\\_multilayer_perceptron.py:691: ConvergenceWarning: Stochastic Optimizer: Maximum iterations (1) reached and the optimization hasn't converged yet.\n",
      "  warnings.warn(\n",
      "C:\\Users\\E-MaxPCShop\\anaconda3\\lib\\site-packages\\sklearn\\neural_network\\_multilayer_perceptron.py:691: ConvergenceWarning: Stochastic Optimizer: Maximum iterations (1) reached and the optimization hasn't converged yet.\n",
      "  warnings.warn(\n",
      "C:\\Users\\E-MaxPCShop\\anaconda3\\lib\\site-packages\\sklearn\\neural_network\\_multilayer_perceptron.py:691: ConvergenceWarning: Stochastic Optimizer: Maximum iterations (1) reached and the optimization hasn't converged yet.\n",
      "  warnings.warn(\n",
      "C:\\Users\\E-MaxPCShop\\anaconda3\\lib\\site-packages\\sklearn\\neural_network\\_multilayer_perceptron.py:691: ConvergenceWarning: Stochastic Optimizer: Maximum iterations (1) reached and the optimization hasn't converged yet.\n",
      "  warnings.warn(\n",
      "C:\\Users\\E-MaxPCShop\\anaconda3\\lib\\site-packages\\sklearn\\neural_network\\_multilayer_perceptron.py:691: ConvergenceWarning: Stochastic Optimizer: Maximum iterations (1) reached and the optimization hasn't converged yet.\n",
      "  warnings.warn(\n",
      "C:\\Users\\E-MaxPCShop\\anaconda3\\lib\\site-packages\\sklearn\\neural_network\\_multilayer_perceptron.py:691: ConvergenceWarning: Stochastic Optimizer: Maximum iterations (1) reached and the optimization hasn't converged yet.\n",
      "  warnings.warn(\n",
      "C:\\Users\\E-MaxPCShop\\anaconda3\\lib\\site-packages\\sklearn\\neural_network\\_multilayer_perceptron.py:691: ConvergenceWarning: Stochastic Optimizer: Maximum iterations (1) reached and the optimization hasn't converged yet.\n",
      "  warnings.warn(\n",
      "C:\\Users\\E-MaxPCShop\\anaconda3\\lib\\site-packages\\sklearn\\neural_network\\_multilayer_perceptron.py:691: ConvergenceWarning: Stochastic Optimizer: Maximum iterations (1) reached and the optimization hasn't converged yet.\n",
      "  warnings.warn(\n",
      "C:\\Users\\E-MaxPCShop\\anaconda3\\lib\\site-packages\\sklearn\\neural_network\\_multilayer_perceptron.py:691: ConvergenceWarning: Stochastic Optimizer: Maximum iterations (1) reached and the optimization hasn't converged yet.\n",
      "  warnings.warn(\n",
      "C:\\Users\\E-MaxPCShop\\anaconda3\\lib\\site-packages\\sklearn\\neural_network\\_multilayer_perceptron.py:691: ConvergenceWarning: Stochastic Optimizer: Maximum iterations (1) reached and the optimization hasn't converged yet.\n",
      "  warnings.warn(\n",
      "C:\\Users\\E-MaxPCShop\\anaconda3\\lib\\site-packages\\sklearn\\neural_network\\_multilayer_perceptron.py:691: ConvergenceWarning: Stochastic Optimizer: Maximum iterations (1) reached and the optimization hasn't converged yet.\n",
      "  warnings.warn(\n",
      "C:\\Users\\E-MaxPCShop\\anaconda3\\lib\\site-packages\\sklearn\\neural_network\\_multilayer_perceptron.py:691: ConvergenceWarning: Stochastic Optimizer: Maximum iterations (1) reached and the optimization hasn't converged yet.\n",
      "  warnings.warn(\n",
      "C:\\Users\\E-MaxPCShop\\anaconda3\\lib\\site-packages\\sklearn\\neural_network\\_multilayer_perceptron.py:691: ConvergenceWarning: Stochastic Optimizer: Maximum iterations (1) reached and the optimization hasn't converged yet.\n",
      "  warnings.warn(\n",
      "C:\\Users\\E-MaxPCShop\\anaconda3\\lib\\site-packages\\sklearn\\neural_network\\_multilayer_perceptron.py:691: ConvergenceWarning: Stochastic Optimizer: Maximum iterations (1) reached and the optimization hasn't converged yet.\n",
      "  warnings.warn(\n",
      "C:\\Users\\E-MaxPCShop\\anaconda3\\lib\\site-packages\\sklearn\\neural_network\\_multilayer_perceptron.py:691: ConvergenceWarning: Stochastic Optimizer: Maximum iterations (1) reached and the optimization hasn't converged yet.\n",
      "  warnings.warn(\n",
      "C:\\Users\\E-MaxPCShop\\anaconda3\\lib\\site-packages\\sklearn\\neural_network\\_multilayer_perceptron.py:691: ConvergenceWarning: Stochastic Optimizer: Maximum iterations (1) reached and the optimization hasn't converged yet.\n",
      "  warnings.warn(\n",
      "C:\\Users\\E-MaxPCShop\\anaconda3\\lib\\site-packages\\sklearn\\neural_network\\_multilayer_perceptron.py:691: ConvergenceWarning: Stochastic Optimizer: Maximum iterations (1) reached and the optimization hasn't converged yet.\n",
      "  warnings.warn(\n",
      "C:\\Users\\E-MaxPCShop\\anaconda3\\lib\\site-packages\\sklearn\\neural_network\\_multilayer_perceptron.py:691: ConvergenceWarning: Stochastic Optimizer: Maximum iterations (1) reached and the optimization hasn't converged yet.\n",
      "  warnings.warn(\n",
      "C:\\Users\\E-MaxPCShop\\anaconda3\\lib\\site-packages\\sklearn\\neural_network\\_multilayer_perceptron.py:691: ConvergenceWarning: Stochastic Optimizer: Maximum iterations (1) reached and the optimization hasn't converged yet.\n",
      "  warnings.warn(\n",
      "C:\\Users\\E-MaxPCShop\\anaconda3\\lib\\site-packages\\sklearn\\neural_network\\_multilayer_perceptron.py:691: ConvergenceWarning: Stochastic Optimizer: Maximum iterations (1) reached and the optimization hasn't converged yet.\n",
      "  warnings.warn(\n",
      "C:\\Users\\E-MaxPCShop\\anaconda3\\lib\\site-packages\\sklearn\\neural_network\\_multilayer_perceptron.py:691: ConvergenceWarning: Stochastic Optimizer: Maximum iterations (1) reached and the optimization hasn't converged yet.\n",
      "  warnings.warn(\n",
      "C:\\Users\\E-MaxPCShop\\anaconda3\\lib\\site-packages\\sklearn\\neural_network\\_multilayer_perceptron.py:691: ConvergenceWarning: Stochastic Optimizer: Maximum iterations (1) reached and the optimization hasn't converged yet.\n",
      "  warnings.warn(\n",
      "C:\\Users\\E-MaxPCShop\\anaconda3\\lib\\site-packages\\sklearn\\neural_network\\_multilayer_perceptron.py:691: ConvergenceWarning: Stochastic Optimizer: Maximum iterations (1) reached and the optimization hasn't converged yet.\n",
      "  warnings.warn(\n",
      "C:\\Users\\E-MaxPCShop\\anaconda3\\lib\\site-packages\\sklearn\\neural_network\\_multilayer_perceptron.py:691: ConvergenceWarning: Stochastic Optimizer: Maximum iterations (1) reached and the optimization hasn't converged yet.\n",
      "  warnings.warn(\n",
      "C:\\Users\\E-MaxPCShop\\anaconda3\\lib\\site-packages\\sklearn\\neural_network\\_multilayer_perceptron.py:691: ConvergenceWarning: Stochastic Optimizer: Maximum iterations (1) reached and the optimization hasn't converged yet.\n",
      "  warnings.warn(\n",
      "C:\\Users\\E-MaxPCShop\\anaconda3\\lib\\site-packages\\sklearn\\neural_network\\_multilayer_perceptron.py:691: ConvergenceWarning: Stochastic Optimizer: Maximum iterations (1) reached and the optimization hasn't converged yet.\n",
      "  warnings.warn(\n",
      "C:\\Users\\E-MaxPCShop\\anaconda3\\lib\\site-packages\\sklearn\\neural_network\\_multilayer_perceptron.py:691: ConvergenceWarning: Stochastic Optimizer: Maximum iterations (1) reached and the optimization hasn't converged yet.\n",
      "  warnings.warn(\n",
      "C:\\Users\\E-MaxPCShop\\anaconda3\\lib\\site-packages\\sklearn\\neural_network\\_multilayer_perceptron.py:691: ConvergenceWarning: Stochastic Optimizer: Maximum iterations (1) reached and the optimization hasn't converged yet.\n",
      "  warnings.warn(\n",
      "C:\\Users\\E-MaxPCShop\\anaconda3\\lib\\site-packages\\sklearn\\neural_network\\_multilayer_perceptron.py:691: ConvergenceWarning: Stochastic Optimizer: Maximum iterations (1) reached and the optimization hasn't converged yet.\n",
      "  warnings.warn(\n",
      "C:\\Users\\E-MaxPCShop\\anaconda3\\lib\\site-packages\\sklearn\\neural_network\\_multilayer_perceptron.py:691: ConvergenceWarning: Stochastic Optimizer: Maximum iterations (1) reached and the optimization hasn't converged yet.\n",
      "  warnings.warn(\n",
      "C:\\Users\\E-MaxPCShop\\anaconda3\\lib\\site-packages\\sklearn\\neural_network\\_multilayer_perceptron.py:691: ConvergenceWarning: Stochastic Optimizer: Maximum iterations (1) reached and the optimization hasn't converged yet.\n",
      "  warnings.warn(\n",
      "C:\\Users\\E-MaxPCShop\\anaconda3\\lib\\site-packages\\sklearn\\neural_network\\_multilayer_perceptron.py:691: ConvergenceWarning: Stochastic Optimizer: Maximum iterations (1) reached and the optimization hasn't converged yet.\n",
      "  warnings.warn(\n",
      "C:\\Users\\E-MaxPCShop\\anaconda3\\lib\\site-packages\\sklearn\\neural_network\\_multilayer_perceptron.py:691: ConvergenceWarning: Stochastic Optimizer: Maximum iterations (1) reached and the optimization hasn't converged yet.\n",
      "  warnings.warn(\n",
      "C:\\Users\\E-MaxPCShop\\anaconda3\\lib\\site-packages\\sklearn\\neural_network\\_multilayer_perceptron.py:691: ConvergenceWarning: Stochastic Optimizer: Maximum iterations (1) reached and the optimization hasn't converged yet.\n",
      "  warnings.warn(\n"
     ]
    },
    {
     "name": "stderr",
     "output_type": "stream",
     "text": [
      "C:\\Users\\E-MaxPCShop\\anaconda3\\lib\\site-packages\\sklearn\\neural_network\\_multilayer_perceptron.py:691: ConvergenceWarning: Stochastic Optimizer: Maximum iterations (1) reached and the optimization hasn't converged yet.\n",
      "  warnings.warn(\n",
      "C:\\Users\\E-MaxPCShop\\anaconda3\\lib\\site-packages\\sklearn\\neural_network\\_multilayer_perceptron.py:691: ConvergenceWarning: Stochastic Optimizer: Maximum iterations (1) reached and the optimization hasn't converged yet.\n",
      "  warnings.warn(\n",
      "C:\\Users\\E-MaxPCShop\\anaconda3\\lib\\site-packages\\sklearn\\neural_network\\_multilayer_perceptron.py:691: ConvergenceWarning: Stochastic Optimizer: Maximum iterations (1) reached and the optimization hasn't converged yet.\n",
      "  warnings.warn(\n",
      "C:\\Users\\E-MaxPCShop\\anaconda3\\lib\\site-packages\\sklearn\\neural_network\\_multilayer_perceptron.py:691: ConvergenceWarning: Stochastic Optimizer: Maximum iterations (1) reached and the optimization hasn't converged yet.\n",
      "  warnings.warn(\n",
      "C:\\Users\\E-MaxPCShop\\anaconda3\\lib\\site-packages\\sklearn\\neural_network\\_multilayer_perceptron.py:691: ConvergenceWarning: Stochastic Optimizer: Maximum iterations (1) reached and the optimization hasn't converged yet.\n",
      "  warnings.warn(\n",
      "C:\\Users\\E-MaxPCShop\\anaconda3\\lib\\site-packages\\sklearn\\neural_network\\_multilayer_perceptron.py:691: ConvergenceWarning: Stochastic Optimizer: Maximum iterations (1) reached and the optimization hasn't converged yet.\n",
      "  warnings.warn(\n",
      "C:\\Users\\E-MaxPCShop\\anaconda3\\lib\\site-packages\\sklearn\\neural_network\\_multilayer_perceptron.py:691: ConvergenceWarning: Stochastic Optimizer: Maximum iterations (1) reached and the optimization hasn't converged yet.\n",
      "  warnings.warn(\n",
      "C:\\Users\\E-MaxPCShop\\anaconda3\\lib\\site-packages\\sklearn\\neural_network\\_multilayer_perceptron.py:691: ConvergenceWarning: Stochastic Optimizer: Maximum iterations (1) reached and the optimization hasn't converged yet.\n",
      "  warnings.warn(\n"
     ]
    },
    {
     "data": {
      "image/png": "[encoded data removed]",
      "text/plain": [
       "<Figure size 720x360 with 1 Axes>"
      ]
     },
     "metadata": {
      "needs_background": "light"
     },
     "output_type": "display_data"
    }
   ],
   "source": [
    "import matplotlib.pyplot as plt\n",
    "import numpy as np\n",
    "\n",
    "# Initialize classifier\n",
    "clf = MLPClassifier(hidden_layer_sizes=(100,), activation='relu', solver='adam', max_iter=500, warm_start=True, verbose=False)\n",
    "\n",
    "# Tracking accuracies\n",
    "train_acc = []\n",
    "test_acc = []\n",
    "\n",
    "# Training loop to track accuracy over iterations\n",
    "for i in range(1000):  # Matches your max_iter\n",
    "    clf.fit(X_train_vec, y_train)\n",
    "    \n",
    "    train_acc.append(clf.score(X_train_vec, y_train))\n",
    "    test_acc.append(clf.score(X_test_vec, y_test))\n",
    "\n",
    "# Plotting accuracy\n",
    "plt.figure(figsize=(10, 5))\n",
    "plt.plot(train_acc, label='Training Accuracy', color='green')\n",
    "plt.plot(test_acc, label='Test Accuracy', color='red')\n",
    "plt.title('Training and Test Accuracy Over Iterations')\n",
    "plt.xlabel('Iterations')\n",
    "plt.ylabel('Accuracy')\n",
    "plt.legend()\n",
    "plt.grid(True)\n",
    "plt.show()"
   ]
  },
  {
   "cell_type": "code",
   "execution_count": null,
   "metadata": {},
   "outputs": [],
   "source": []
  }
 ],
 "metadata": {
  "colab": {
   "authorship_tag": "ABX9TyNfbQmNi5GT2iWZIwQntt3V",
   "include_colab_link": true,
   "provenance": []
  },
  "kaggle": {
   "accelerator": "none",
   "dataSources": [
    {
     "datasetId": 6802262,
     "sourceId": 10938282,
     "sourceType": "datasetVersion"
    }
   ],
   "dockerImageVersionId": 30918,
   "isGpuEnabled": false,
   "isInternetEnabled": false,
   "language": "python",
   "sourceType": "notebook"
  },
  "kernelspec": {
   "display_name": "Python 3 (ipykernel)",
   "language": "python",
   "name": "python3"
  },
  "language_info": {
   "codemirror_mode": {
    "name": "ipython",
    "version": 3
   },
   "file_extension": ".py",
   "mimetype": "text/x-python",
   "name": "python",
   "nbconvert_exporter": "python",
   "pygments_lexer": "ipython3",
   "version": "3.9.12"
  }
 },
 "nbformat": 4,
 "nbformat_minor": 4
}
